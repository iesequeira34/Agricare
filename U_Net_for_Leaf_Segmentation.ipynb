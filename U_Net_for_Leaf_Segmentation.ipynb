{
  "nbformat": 4,
  "nbformat_minor": 0,
  "metadata": {
    "colab": {
      "name": "U-Net for Leaf Segmentation",
      "provenance": [],
      "collapsed_sections": []
    },
    "kernelspec": {
      "name": "python3",
      "display_name": "Python 3"
    },
    "language_info": {
      "name": "python"
    }
  },
  "cells": [
    {
      "cell_type": "markdown",
      "source": [
        "##Importing the required libraries"
      ],
      "metadata": {
        "id": "uY5Z9t-tOMDJ"
      }
    },
    {
      "cell_type": "code",
      "execution_count": null,
      "metadata": {
        "id": "MEeKdYH4KFga"
      },
      "outputs": [],
      "source": [
        "from keras.models import Model\n",
        "from keras.layers import Input, Conv2D, MaxPooling2D, UpSampling2D, concatenate, Conv2DTranspose, BatchNormalization, Dropout, Lambda\n",
        "from tensorflow.keras.optimizers import Adam\n",
        "from keras.layers import Activation, MaxPool2D, Concatenate\n",
        "from tensorflow.keras.utils import normalize\n",
        "import os\n",
        "import cv2\n",
        "from PIL import Image\n",
        "import numpy as np\n",
        "from matplotlib import pyplot as plt\n",
        "from sklearn.preprocessing import MinMaxScaler\n",
        "import random\n",
        "from tqdm import tqdm \n",
        "from skimage.io import imread, imshow\n",
        "from skimage.transform import resize"
      ]
    },
    {
      "cell_type": "markdown",
      "source": [
        "###Defining the convolutional block"
      ],
      "metadata": {
        "id": "_I-J1XyBORVm"
      }
    },
    {
      "cell_type": "code",
      "source": [
        "def conv_block(input, num_filters):\n",
        "    x = Conv2D(num_filters, 3, padding=\"same\")(input)\n",
        "    x = BatchNormalization()(x)\n",
        "    x = Activation(\"relu\")(x)\n",
        "\n",
        "    x = Conv2D(num_filters, 3, padding=\"same\")(x)\n",
        "    x = BatchNormalization()(x) \n",
        "    x = Activation(\"relu\")(x)\n",
        "\n",
        "    return x"
      ],
      "metadata": {
        "id": "WMKtlgN_Glz0"
      },
      "execution_count": null,
      "outputs": []
    },
    {
      "cell_type": "markdown",
      "source": [
        "###Defining the downsampling block"
      ],
      "metadata": {
        "id": "6seICRmxOaZK"
      }
    },
    {
      "cell_type": "code",
      "source": [
        "def encoder_block(input, num_filters):\n",
        "    x = conv_block(input, num_filters)\n",
        "    p = MaxPool2D((2, 2))(x)\n",
        "    return x, p   \n"
      ],
      "metadata": {
        "id": "rOyXaOviGl2V"
      },
      "execution_count": null,
      "outputs": []
    },
    {
      "cell_type": "markdown",
      "source": [
        "###Defining the upsampling block"
      ],
      "metadata": {
        "id": "kXDjo3LsOdcD"
      }
    },
    {
      "cell_type": "code",
      "source": [
        "def decoder_block(input, skip_features, num_filters):\n",
        "    x = Conv2DTranspose(num_filters, (2, 2), strides=2, padding=\"same\")(input)\n",
        "    x = Concatenate()([x, skip_features])\n",
        "    x = conv_block(x, num_filters)\n",
        "    return x"
      ],
      "metadata": {
        "id": "yv38lbjPGmA5"
      },
      "execution_count": null,
      "outputs": []
    },
    {
      "cell_type": "code",
      "source": [
        "def build_unet(input_shape):\n",
        "    inputs = Input(input_shape)\n",
        "\n",
        "    s1, p1 = encoder_block(inputs, 64)\n",
        "    s2, p2 = encoder_block(p1, 128)\n",
        "    s3, p3 = encoder_block(p2, 256)\n",
        "    s4, p4 = encoder_block(p3, 512)\n",
        "\n",
        "    b1 = conv_block(p4, 1024) \n",
        "\n",
        "    d1 = decoder_block(b1, s4, 512)\n",
        "    d2 = decoder_block(d1, s3, 256)\n",
        "    d3 = decoder_block(d2, s2, 128)\n",
        "    d4 = decoder_block(d3, s1, 64)\n",
        "\n",
        "    outputs = Conv2D(1, 1, padding=\"same\", activation=\"sigmoid\")(d4)\n",
        "    model = Model(inputs, outputs, name=\"U-Net\")\n",
        "    return model"
      ],
      "metadata": {
        "id": "BEQWMth3HCkn"
      },
      "execution_count": null,
      "outputs": []
    },
    {
      "cell_type": "markdown",
      "source": [
        "##Mounting drive"
      ],
      "metadata": {
        "id": "SpqS5T1zOkYE"
      }
    },
    {
      "cell_type": "code",
      "source": [
        "from google.colab import drive\n",
        "drive.mount('/content/drive')"
      ],
      "metadata": {
        "colab": {
          "base_uri": "https://localhost:8080/"
        },
        "id": "iBod3HTgHCom",
        "outputId": "29a0f92a-3828-43e3-be82-0192934ddc98"
      },
      "execution_count": null,
      "outputs": [
        {
          "output_type": "stream",
          "name": "stdout",
          "text": [
            "Mounted at /content/drive\n"
          ]
        }
      ]
    },
    {
      "cell_type": "code",
      "source": [
        "seed = 42\n",
        "np.random.seed = seed"
      ],
      "metadata": {
        "id": "xRs5_EqBKDgQ"
      },
      "execution_count": null,
      "outputs": []
    },
    {
      "cell_type": "markdown",
      "source": [
        "##Importing the dataset"
      ],
      "metadata": {
        "id": "GQJTUcpZOoc7"
      }
    },
    {
      "cell_type": "code",
      "source": [
        "IMG_WIDTH = 256\n",
        "IMG_HEIGHT = 256\n",
        "IMG_CHANNELS = 3\n",
        "\n",
        "TRAIN_PATH = '/content/drive/MyDrive/U-Net/train/'\n",
        "TEST_PATH = '/content/drive/MyDrive/U-Net/test/'"
      ],
      "metadata": {
        "id": "BVCHXhjsKDik"
      },
      "execution_count": null,
      "outputs": []
    },
    {
      "cell_type": "code",
      "source": [
        "x = next(os.walk(TRAIN_PATH))\n",
        "images,masks = x[1]\n",
        "print(next(os.walk(os.path.join(x[0], images)))[2])\n",
        "\n",
        "y = next(os.walk(TEST_PATH))\n",
        "images2,masks2 = y[1]\n",
        "print(next(os.walk(os.path.join(y[0], images2)))[2])"
      ],
      "metadata": {
        "colab": {
          "base_uri": "https://localhost:8080/"
        },
        "id": "eIjG4ZknVHWb",
        "outputId": "8d871182-2233-4cee-ea5f-9d4916a59bb3"
      },
      "execution_count": null,
      "outputs": [
        {
          "output_type": "stream",
          "name": "stdout",
          "text": [
            "['dr_23_2843.jpg', 'dr_0_728.jpg', 'WhatsApp Image 2021-12-19 at 12.20.01.jpeg', 'dr_7_6616.jpg', 'dr_0_1317.jpg', 'dr_10_1901.jpg', 'WhatsApp Image 2021-12-19 at 12.20.08 (1).jpeg', 'dr_10_2344.jpg', 'WhatsApp Image 2021-12-20 at 17.57.24 (1).jpeg', 'dr_11_8925.jpg', 'dr_19_3059.jpg', 'WhatsApp Image 2021-12-19 at 12.20.05 (1).jpeg', 'WhatsApp Image 2021-12-19 at 12.08.50.jpeg', 'WhatsApp Image 2021-12-19 at 12.08.50 (1).jpeg', 'dr_7_2528.jpg', 'WhatsApp Image 2021-12-20 at 17.58.25 (1).jpeg', 'dr_0_613.jpg', 'WhatsApp Image 2021-12-20 at 17.57.21.jpeg', 'dr_17_4517.jpg', 'WhatsApp Image 2021-12-20 at 17.57.21 (1).jpeg', 'WhatsApp Image 2021-12-19 at 12.19.58 (1).jpeg', 'dr_10_1018.jpg', 'dr_43_4064.jpg', 'dr_6_158.jpg', 'dr_18_4661.jpg', 'dr_42_8135.jpg', 'dr_7_3052.jpg', 'dr_19_8697.jpg', 'WhatsApp Image 2021-12-20 at 17.58.24.jpeg', 'dr_2_1681.jpg', 'dr_6_1024.jpg', 'WhatsApp Image 2021-12-19 at 12.08.43 (1).jpeg', 'WhatsApp Image 2021-12-19 at 12.08.43.jpeg', 'WhatsApp Image 2021-12-20 at 17.57.20.jpeg', 'dr_18_4506.jpg', 'dr_6_782.jpg', 'dr_14_5190.jpg', 'dr_33_9211.jpg', 'WhatsApp Image 2021-12-20 at 17.58.28 (1).jpeg', 'dr_19_250.jpg', 'dr_19_355.jpg', 'dr_18_3470.jpg', 'WhatsApp Image 2021-12-20 at 17.58.29 (1).jpeg', 'WhatsApp Image 2021-12-20 at 17.58.25.jpeg', 'WhatsApp Image 2021-12-19 at 12.20.08.jpeg', 'dr_43_6500.jpg', 'WhatsApp Image 2021-12-19 at 12.08.39.jpeg', 'WhatsApp Image 2021-12-19 at 12.08.41.jpeg', 'WhatsApp Image 2021-12-19 at 12.20.09 (1).jpeg', 'dr_1_7866.jpg', 'Fig-1-a-normal-rice-leaf-b-defective-rice-leaf.png', 'dr_6_1776.jpg', 'WhatsApp Image 2021-12-20 at 17.58.29.jpeg', 'dr_2_8146.jpg', 'dr_11_427.jpg', 'WhatsApp Image 2021-12-19 at 12.20.05.jpeg', 'dr_17_3869.jpg', 'WhatsApp Image 2021-12-20 at 17.58.28.jpeg', 'dr_7_7607.jpg', 'dr_12_1413.jpg', 'dr_30_6160.jpg', 'dr_13_5969.jpg', 'dr_5_3970.jpg', 'dr_6_2012.jpg', 'WhatsApp Image 2021-12-20 at 17.57.19 (1).jpeg', 'WhatsApp Image 2021-12-20 at 17.57.22 (2).jpeg', 'WhatsApp Image 2021-12-20 at 17.57.23.jpeg', 'dr_15_862.jpg', 'WhatsApp Image 2021-12-20 at 17.57.22 (1).jpeg', 'dr_34_1267.jpg', 'dr_23_9125.jpg', 'WhatsApp Image 2021-12-19 at 12.20.02.jpeg', 'dr_2_913.jpg', 'WhatsApp Image 2021-12-19 at 12.20.07.jpeg']\n",
            "['dr_7_1613.jpg', 'WhatsApp Image 2021-12-19 at 12.08.38 (1).jpeg', 'WhatsApp Image 2021-12-20 at 17.58.27 (1).jpeg', 'dr_0_1586.jpg', 'dr_30_5324.jpg', 'dr_27_4646.jpg', 'WhatsApp Image 2021-12-20 at 17.58.27.jpeg', 'WhatsApp Image 2021-12-20 at 17.58.26 (1).jpeg', 'dr_0_158.jpg', 'WhatsApp Image 2021-12-19 at 12.19.57.jpeg', 'WhatsApp Image 2021-12-20 at 17.58.26.jpeg', 'dr_2_7779.jpg', 'dr_36_9962.jpg', 'WhatsApp Image 2021-12-19 at 12.08.38.jpeg', 'WhatsApp Image 2021-12-19 at 12.08.42.jpeg']\n"
          ]
        }
      ]
    },
    {
      "cell_type": "code",
      "source": [
        "train_ids = next(os.walk(os.path.join(x[0], images)))[2]\n",
        "test_ids = next(os.walk(os.path.join(y[0], y[1][0])))[2]\n",
        "\n",
        "X_train = np.zeros((len(train_ids), IMG_HEIGHT, IMG_WIDTH, IMG_CHANNELS), dtype=np.uint8)\n",
        "Y_train = np.zeros((len(train_ids), IMG_HEIGHT, IMG_WIDTH, 1), dtype=np.bool)"
      ],
      "metadata": {
        "id": "1yaKgJTPKDk7"
      },
      "execution_count": null,
      "outputs": []
    },
    {
      "cell_type": "code",
      "source": [
        "print(X_train.shape, Y_train.shape)"
      ],
      "metadata": {
        "colab": {
          "base_uri": "https://localhost:8080/"
        },
        "id": "b9IyPPJwKDnI",
        "outputId": "cf467bca-1ed7-472e-ca15-bac5b2a4a351"
      },
      "execution_count": null,
      "outputs": [
        {
          "output_type": "stream",
          "name": "stdout",
          "text": [
            "(74, 256, 256, 3) (74, 256, 256, 1)\n"
          ]
        }
      ]
    },
    {
      "cell_type": "markdown",
      "source": [
        "##Creating train and test datasets for model training"
      ],
      "metadata": {
        "id": "xWBLpF1OOufi"
      }
    },
    {
      "cell_type": "code",
      "source": [
        "n = 0\n",
        "for im in train_ids:\n",
        "  img = imread(TRAIN_PATH + '/images/' + im)[:,:,:IMG_CHANNELS]  \n",
        "  img = resize(img, (IMG_HEIGHT, IMG_WIDTH), preserve_range=True)\n",
        "  X_train[n] = img\n",
        "  mask = np.zeros((IMG_HEIGHT, IMG_WIDTH, 1), dtype=np.bool)\n",
        "  mask_ = imread(TRAIN_PATH + '/masks/' + im)\n",
        "  mask_ = np.expand_dims(resize(mask_, (IMG_HEIGHT, IMG_WIDTH), preserve_range=True), axis=-1)\n",
        "  mask = np.maximum(mask, mask_)\n",
        "  Y_train[n] = mask\n",
        "  n += 1"
      ],
      "metadata": {
        "id": "4sEkuPyLLkQR"
      },
      "execution_count": null,
      "outputs": []
    },
    {
      "cell_type": "code",
      "source": [
        "X_test = np.zeros((len(test_ids), IMG_HEIGHT, IMG_WIDTH, IMG_CHANNELS), dtype=np.uint8)\n",
        "Y_test = np.zeros((len(test_ids), IMG_HEIGHT, IMG_WIDTH, 1), dtype=np.bool)\n",
        "sizes_test = []\n",
        "k = 0\n",
        "for im in test_ids:\n",
        "  img = imread(TEST_PATH + '/images/' + im)[:,:,:IMG_CHANNELS]\n",
        "  sizes_test.append([img.shape[0], img.shape[1]])\n",
        "  img = resize(img, (IMG_HEIGHT, IMG_WIDTH), preserve_range=True)\n",
        "  X_test[k] = img\n",
        "  mask = np.zeros((IMG_HEIGHT, IMG_WIDTH, 1), dtype=np.bool)\n",
        "  mask_ = imread(TEST_PATH + '/masks/' + im)\n",
        "  mask_ = np.expand_dims(resize(mask_, (IMG_HEIGHT, IMG_WIDTH), preserve_range=True), axis=-1)\n",
        "  mask = np.maximum(mask, mask_)\n",
        "  Y_test[k] = mask\n",
        "  k += 1\n",
        "\n"
      ],
      "metadata": {
        "id": "epHTwulGLkSu"
      },
      "execution_count": null,
      "outputs": []
    },
    {
      "cell_type": "markdown",
      "source": [
        "##Augmentation of the dataset"
      ],
      "metadata": {
        "id": "Mt0F9zPlOz63"
      }
    },
    {
      "cell_type": "code",
      "source": [
        "from keras.preprocessing.image import ImageDataGenerator\n",
        "\n",
        "img_data_gen_args = dict(rotation_range=90,\n",
        "                     width_shift_range=0.3,\n",
        "                     height_shift_range=0.3,\n",
        "                     shear_range=0.5,\n",
        "                     zoom_range=0.3,\n",
        "                     horizontal_flip=True,\n",
        "                     vertical_flip=True,\n",
        "                     fill_mode='reflect')\n",
        "\n",
        "mask_data_gen_args = dict(rotation_range=90,\n",
        "                     width_shift_range=0.3,\n",
        "                     height_shift_range=0.3,\n",
        "                     shear_range=0.5,\n",
        "                     zoom_range=0.3,\n",
        "                     horizontal_flip=True,\n",
        "                     vertical_flip=True,\n",
        "                     fill_mode='reflect',\n",
        "                     preprocessing_function = lambda x: np.where(x>0, 1, 0).astype(x.dtype))\n",
        "\n",
        "image_data_generator = ImageDataGenerator(**img_data_gen_args)"
      ],
      "metadata": {
        "id": "MALDTtn8qbp2"
      },
      "execution_count": null,
      "outputs": []
    },
    {
      "cell_type": "code",
      "source": [
        "batch_size= 16\n",
        "seed = 42\n",
        "image_generator = image_data_generator.flow(X_train, seed=seed, batch_size=batch_size)\n",
        "valid_img_generator = image_data_generator.flow(X_test, seed=seed, batch_size=batch_size) \n",
        "\n",
        "mask_data_generator = ImageDataGenerator(**mask_data_gen_args)\n",
        "mask_generator = mask_data_generator.flow(Y_train, seed=seed, batch_size=batch_size)\n",
        "valid_mask_generator = mask_data_generator.flow(Y_test, seed=seed, batch_size=batch_size)  \n",
        "\n",
        "def my_image_mask_generator(image_generator, mask_generator):\n",
        "    train_generator = zip(image_generator, mask_generator)\n",
        "    for (img, mask) in train_generator:\n",
        "        yield (img, mask)\n",
        "\n",
        "my_generator = my_image_mask_generator(image_generator, mask_generator)\n",
        "\n",
        "validation_datagen = my_image_mask_generator(valid_img_generator, valid_mask_generator)"
      ],
      "metadata": {
        "id": "5_aWs4LwqbsP"
      },
      "execution_count": null,
      "outputs": []
    },
    {
      "cell_type": "code",
      "source": [
        "steps_per_epoch = 3*(len(X_train))//batch_size"
      ],
      "metadata": {
        "id": "5TmeHPynqbuS"
      },
      "execution_count": null,
      "outputs": []
    },
    {
      "cell_type": "markdown",
      "source": [
        "##Example of image from the dataset"
      ],
      "metadata": {
        "id": "LmE989EhO392"
      }
    },
    {
      "cell_type": "code",
      "source": [
        "image_x = random.randint(0, len(train_ids))\n",
        "imshow(X_train[image_x])\n",
        "plt.show()"
      ],
      "metadata": {
        "colab": {
          "base_uri": "https://localhost:8080/",
          "height": 297
        },
        "id": "gfX9YjqyLkYb",
        "outputId": "3f46812c-4235-438e-a17d-9c6a735fd650"
      },
      "execution_count": null,
      "outputs": [
        {
          "output_type": "display_data",
          "data": {
            "image/png": "[encoded data removed]",
            "text/plain": [
              "<Figure size 432x288 with 1 Axes>"
            ]
          },
          "metadata": {
            "needs_background": "light"
          }
        }
      ]
    },
    {
      "cell_type": "code",
      "source": [
        "imshow(np.squeeze(Y_train[image_x]))\n",
        "plt.show()"
      ],
      "metadata": {
        "colab": {
          "base_uri": "https://localhost:8080/",
          "height": 297
        },
        "id": "qwG3plMsdeOJ",
        "outputId": "c5c23b3e-eca2-4cab-fa40-584526861ddd"
      },
      "execution_count": null,
      "outputs": [
        {
          "output_type": "display_data",
          "data": {
            "image/png": "[encoded data removed]",
            "text/plain": [
              "<Figure size 432x288 with 1 Axes>"
            ]
          },
          "metadata": {
            "needs_background": "light"
          }
        }
      ]
    },
    {
      "cell_type": "markdown",
      "source": [
        "Defining dice_coefficient metric function"
      ],
      "metadata": {
        "id": "WVkJzo8cO8Mq"
      }
    },
    {
      "cell_type": "code",
      "source": [
        "def dice_coefficient(y_true, y_pred):\n",
        "    numerator = 2 * tf.reduce_sum(y_true * y_pred)\n",
        "    denominator = tf.reduce_sum(y_true + y_pred)\n",
        "\n",
        "    return numerator / (denominator + tf.keras.backend.epsilon())\n",
        "\n",
        "from tensorflow.keras.losses import binary_crossentropy\n",
        "\n",
        "# def loss(y_true, y_pred):\n",
        "#     return binary_crossentropy(y_true, y_pred) - tf.math.log(dice_coefficient(y_true, y_pred) + tf.keras.backend.epsilon())\n"
      ],
      "metadata": {
        "id": "qphLHX9lCDL9"
      },
      "execution_count": null,
      "outputs": []
    },
    {
      "cell_type": "markdown",
      "source": [
        "##Training the model"
      ],
      "metadata": {
        "id": "EIWx7irnTggy"
      }
    },
    {
      "cell_type": "code",
      "source": [
        "from tensorflow.keras.callbacks import ModelCheckpoint\n",
        "import tensorflow as tf\n",
        "input_shape = (256, 256, 3)\n",
        "checkpointer = ModelCheckpoint('model_for_paddy.h5', verbose=1, save_best_only=True)\n",
        "\n",
        "model = build_unet(input_shape)\n",
        "model.compile(optimizer='sgd', loss='binary_crossentropy', metrics=[dice_coefficient])\n",
        "\n",
        "with tf.device('/GPU:0'):\n",
        "  results = model.fit_generator(my_generator, validation_data=validation_datagen, \n",
        "                    steps_per_epoch=steps_per_epoch, \n",
        "                    validation_steps=steps_per_epoch, epochs=250, callbacks=[checkpointer])"
      ],
      "metadata": {
        "colab": {
          "base_uri": "https://localhost:8080/"
        },
        "id": "LvnD7g9QCNga",
        "outputId": "29cbb355-ccda-4804-f305-e67b0d056963"
      },
      "execution_count": null,
      "outputs": [
        {
          "output_type": "stream",
          "name": "stderr",
          "text": [
            "/usr/local/lib/python3.7/dist-packages/ipykernel_launcher.py:12: UserWarning: `Model.fit_generator` is deprecated and will be removed in a future version. Please use `Model.fit`, which supports generators.\n",
            "  if sys.path[0] == '':\n"
          ]
        },
        {
          "output_type": "stream",
          "name": "stdout",
          "text": [
            "Epoch 1/250\n",
            "13/13 [==============================] - ETA: 0s - loss: 0.8580 - dice_coefficient: 0.3666\n",
            "Epoch 00001: val_loss improved from inf to 1.18225, saving model to model_for_paddy.h5\n",
            "13/13 [==============================] - 70s 4s/step - loss: 0.8580 - dice_coefficient: 0.3666 - val_loss: 1.1822 - val_dice_coefficient: 0.3721\n",
            "Epoch 2/250\n",
            "13/13 [==============================] - ETA: 0s - loss: 0.6203 - dice_coefficient: 0.3980\n",
            "Epoch 00002: val_loss improved from 1.18225 to 0.73483, saving model to model_for_paddy.h5\n",
            "13/13 [==============================] - 25s 2s/step - loss: 0.6203 - dice_coefficient: 0.3980 - val_loss: 0.7348 - val_dice_coefficient: 0.3593\n",
            "Epoch 3/250\n",
            "13/13 [==============================] - ETA: 0s - loss: 0.5260 - dice_coefficient: 0.4008\n",
            "Epoch 00003: val_loss did not improve from 0.73483\n",
            "13/13 [==============================] - 25s 2s/step - loss: 0.5260 - dice_coefficient: 0.4008 - val_loss: 0.7433 - val_dice_coefficient: 0.3488\n",
            "Epoch 4/250\n",
            "13/13 [==============================] - ETA: 0s - loss: 0.4750 - dice_coefficient: 0.4247\n",
            "Epoch 00004: val_loss improved from 0.73483 to 0.58236, saving model to model_for_paddy.h5\n",
            "13/13 [==============================] - 25s 2s/step - loss: 0.4750 - dice_coefficient: 0.4247 - val_loss: 0.5824 - val_dice_coefficient: 0.3402\n",
            "Epoch 5/250\n",
            "13/13 [==============================] - ETA: 0s - loss: 0.4553 - dice_coefficient: 0.4152\n",
            "Epoch 00005: val_loss did not improve from 0.58236\n",
            "13/13 [==============================] - 25s 2s/step - loss: 0.4553 - dice_coefficient: 0.4152 - val_loss: 0.6078 - val_dice_coefficient: 0.3232\n",
            "Epoch 6/250\n",
            "13/13 [==============================] - ETA: 0s - loss: 0.4261 - dice_coefficient: 0.4340\n",
            "Epoch 00006: val_loss improved from 0.58236 to 0.53986, saving model to model_for_paddy.h5\n",
            "13/13 [==============================] - 25s 2s/step - loss: 0.4261 - dice_coefficient: 0.4340 - val_loss: 0.5399 - val_dice_coefficient: 0.3238\n",
            "Epoch 7/250\n",
            "13/13 [==============================] - ETA: 0s - loss: 0.4065 - dice_coefficient: 0.4162\n",
            "Epoch 00007: val_loss did not improve from 0.53986\n",
            "13/13 [==============================] - 25s 2s/step - loss: 0.4065 - dice_coefficient: 0.4162 - val_loss: 0.5418 - val_dice_coefficient: 0.3156\n",
            "Epoch 8/250\n",
            "13/13 [==============================] - ETA: 0s - loss: 0.4096 - dice_coefficient: 0.4331\n",
            "Epoch 00008: val_loss improved from 0.53986 to 0.53337, saving model to model_for_paddy.h5\n",
            "13/13 [==============================] - 25s 2s/step - loss: 0.4096 - dice_coefficient: 0.4331 - val_loss: 0.5334 - val_dice_coefficient: 0.3290\n",
            "Epoch 9/250\n",
            "13/13 [==============================] - ETA: 0s - loss: 0.3978 - dice_coefficient: 0.4472\n",
            "Epoch 00009: val_loss improved from 0.53337 to 0.52265, saving model to model_for_paddy.h5\n",
            "13/13 [==============================] - 25s 2s/step - loss: 0.3978 - dice_coefficient: 0.4472 - val_loss: 0.5226 - val_dice_coefficient: 0.3218\n",
            "Epoch 10/250\n",
            "13/13 [==============================] - ETA: 0s - loss: 0.4116 - dice_coefficient: 0.4351\n",
            "Epoch 00010: val_loss improved from 0.52265 to 0.52043, saving model to model_for_paddy.h5\n",
            "13/13 [==============================] - 25s 2s/step - loss: 0.4116 - dice_coefficient: 0.4351 - val_loss: 0.5204 - val_dice_coefficient: 0.3217\n",
            "Epoch 11/250\n",
            "13/13 [==============================] - ETA: 0s - loss: 0.3929 - dice_coefficient: 0.4522\n",
            "Epoch 00011: val_loss improved from 0.52043 to 0.51119, saving model to model_for_paddy.h5\n",
            "13/13 [==============================] - 25s 2s/step - loss: 0.3929 - dice_coefficient: 0.4522 - val_loss: 0.5112 - val_dice_coefficient: 0.3186\n",
            "Epoch 12/250\n",
            "13/13 [==============================] - ETA: 0s - loss: 0.3742 - dice_coefficient: 0.4549\n",
            "Epoch 00012: val_loss improved from 0.51119 to 0.49826, saving model to model_for_paddy.h5\n",
            "13/13 [==============================] - 25s 2s/step - loss: 0.3742 - dice_coefficient: 0.4549 - val_loss: 0.4983 - val_dice_coefficient: 0.3201\n",
            "Epoch 13/250\n",
            "13/13 [==============================] - ETA: 0s - loss: 0.3715 - dice_coefficient: 0.4678\n",
            "Epoch 00013: val_loss did not improve from 0.49826\n",
            "13/13 [==============================] - 25s 2s/step - loss: 0.3715 - dice_coefficient: 0.4678 - val_loss: 0.5201 - val_dice_coefficient: 0.3241\n",
            "Epoch 14/250\n",
            "13/13 [==============================] - ETA: 0s - loss: 0.3674 - dice_coefficient: 0.4692\n",
            "Epoch 00014: val_loss improved from 0.49826 to 0.49493, saving model to model_for_paddy.h5\n",
            "13/13 [==============================] - 25s 2s/step - loss: 0.3674 - dice_coefficient: 0.4692 - val_loss: 0.4949 - val_dice_coefficient: 0.3315\n",
            "Epoch 15/250\n",
            "13/13 [==============================] - ETA: 0s - loss: 0.3655 - dice_coefficient: 0.4700\n",
            "Epoch 00015: val_loss did not improve from 0.49493\n",
            "13/13 [==============================] - 25s 2s/step - loss: 0.3655 - dice_coefficient: 0.4700 - val_loss: 0.5007 - val_dice_coefficient: 0.3366\n",
            "Epoch 16/250\n",
            "13/13 [==============================] - ETA: 0s - loss: 0.3567 - dice_coefficient: 0.4828\n",
            "Epoch 00016: val_loss improved from 0.49493 to 0.48207, saving model to model_for_paddy.h5\n",
            "13/13 [==============================] - 29s 2s/step - loss: 0.3567 - dice_coefficient: 0.4828 - val_loss: 0.4821 - val_dice_coefficient: 0.3344\n",
            "Epoch 17/250\n",
            "13/13 [==============================] - ETA: 0s - loss: 0.3574 - dice_coefficient: 0.4842\n",
            "Epoch 00017: val_loss did not improve from 0.48207\n",
            "13/13 [==============================] - 25s 2s/step - loss: 0.3574 - dice_coefficient: 0.4842 - val_loss: 0.5051 - val_dice_coefficient: 0.3349\n",
            "Epoch 18/250\n",
            "13/13 [==============================] - ETA: 0s - loss: 0.3720 - dice_coefficient: 0.4703\n",
            "Epoch 00018: val_loss did not improve from 0.48207\n",
            "13/13 [==============================] - 25s 2s/step - loss: 0.3720 - dice_coefficient: 0.4703 - val_loss: 0.5060 - val_dice_coefficient: 0.3329\n",
            "Epoch 19/250\n",
            "13/13 [==============================] - ETA: 0s - loss: 0.3715 - dice_coefficient: 0.4851\n",
            "Epoch 00019: val_loss did not improve from 0.48207\n",
            "13/13 [==============================] - 25s 2s/step - loss: 0.3715 - dice_coefficient: 0.4851 - val_loss: 0.5308 - val_dice_coefficient: 0.3154\n",
            "Epoch 20/250\n",
            "13/13 [==============================] - ETA: 0s - loss: 0.3455 - dice_coefficient: 0.5007\n",
            "Epoch 00020: val_loss did not improve from 0.48207\n",
            "13/13 [==============================] - 25s 2s/step - loss: 0.3455 - dice_coefficient: 0.5007 - val_loss: 0.4992 - val_dice_coefficient: 0.3315\n",
            "Epoch 21/250\n",
            "13/13 [==============================] - ETA: 0s - loss: 0.3403 - dice_coefficient: 0.5016\n",
            "Epoch 00021: val_loss did not improve from 0.48207\n",
            "13/13 [==============================] - 25s 2s/step - loss: 0.3403 - dice_coefficient: 0.5016 - val_loss: 0.4951 - val_dice_coefficient: 0.3362\n",
            "Epoch 22/250\n",
            "13/13 [==============================] - ETA: 0s - loss: 0.3365 - dice_coefficient: 0.5043\n",
            "Epoch 00022: val_loss improved from 0.48207 to 0.46412, saving model to model_for_paddy.h5\n",
            "13/13 [==============================] - 25s 2s/step - loss: 0.3365 - dice_coefficient: 0.5043 - val_loss: 0.4641 - val_dice_coefficient: 0.3467\n",
            "Epoch 23/250\n",
            "13/13 [==============================] - ETA: 0s - loss: 0.3413 - dice_coefficient: 0.5232\n",
            "Epoch 00023: val_loss did not improve from 0.46412\n",
            "13/13 [==============================] - 25s 2s/step - loss: 0.3413 - dice_coefficient: 0.5232 - val_loss: 0.5082 - val_dice_coefficient: 0.3533\n",
            "Epoch 24/250\n",
            "13/13 [==============================] - ETA: 0s - loss: 0.3518 - dice_coefficient: 0.5101\n",
            "Epoch 00024: val_loss did not improve from 0.46412\n",
            "13/13 [==============================] - 24s 2s/step - loss: 0.3518 - dice_coefficient: 0.5101 - val_loss: 0.5183 - val_dice_coefficient: 0.3535\n",
            "Epoch 25/250\n",
            "13/13 [==============================] - ETA: 0s - loss: 0.3227 - dice_coefficient: 0.5199\n",
            "Epoch 00025: val_loss did not improve from 0.46412\n",
            "13/13 [==============================] - 25s 2s/step - loss: 0.3227 - dice_coefficient: 0.5199 - val_loss: 0.5117 - val_dice_coefficient: 0.3616\n",
            "Epoch 26/250\n",
            "13/13 [==============================] - ETA: 0s - loss: 0.3296 - dice_coefficient: 0.5188\n",
            "Epoch 00026: val_loss did not improve from 0.46412\n",
            "13/13 [==============================] - 25s 2s/step - loss: 0.3296 - dice_coefficient: 0.5188 - val_loss: 0.4845 - val_dice_coefficient: 0.3484\n",
            "Epoch 27/250\n",
            "13/13 [==============================] - ETA: 0s - loss: 0.3259 - dice_coefficient: 0.5355\n",
            "Epoch 00027: val_loss did not improve from 0.46412\n",
            "13/13 [==============================] - 25s 2s/step - loss: 0.3259 - dice_coefficient: 0.5355 - val_loss: 0.5193 - val_dice_coefficient: 0.3725\n",
            "Epoch 28/250\n",
            "13/13 [==============================] - ETA: 0s - loss: 0.3192 - dice_coefficient: 0.5412\n",
            "Epoch 00028: val_loss did not improve from 0.46412\n",
            "13/13 [==============================] - 25s 2s/step - loss: 0.3192 - dice_coefficient: 0.5412 - val_loss: 0.4984 - val_dice_coefficient: 0.3798\n",
            "Epoch 29/250\n",
            "13/13 [==============================] - ETA: 0s - loss: 0.3173 - dice_coefficient: 0.5255\n",
            "Epoch 00029: val_loss did not improve from 0.46412\n",
            "13/13 [==============================] - 25s 2s/step - loss: 0.3173 - dice_coefficient: 0.5255 - val_loss: 0.5339 - val_dice_coefficient: 0.3784\n",
            "Epoch 30/250\n",
            "13/13 [==============================] - ETA: 0s - loss: 0.3305 - dice_coefficient: 0.5346\n",
            "Epoch 00030: val_loss did not improve from 0.46412\n",
            "13/13 [==============================] - 24s 2s/step - loss: 0.3305 - dice_coefficient: 0.5346 - val_loss: 0.4914 - val_dice_coefficient: 0.3866\n",
            "Epoch 31/250\n",
            "13/13 [==============================] - ETA: 0s - loss: 0.3242 - dice_coefficient: 0.5555\n",
            "Epoch 00031: val_loss did not improve from 0.46412\n",
            "13/13 [==============================] - 25s 2s/step - loss: 0.3242 - dice_coefficient: 0.5555 - val_loss: 0.5111 - val_dice_coefficient: 0.3825\n",
            "Epoch 32/250\n",
            "13/13 [==============================] - ETA: 0s - loss: 0.3076 - dice_coefficient: 0.5555\n",
            "Epoch 00032: val_loss did not improve from 0.46412\n",
            "13/13 [==============================] - 24s 2s/step - loss: 0.3076 - dice_coefficient: 0.5555 - val_loss: 0.5066 - val_dice_coefficient: 0.4170\n",
            "Epoch 33/250\n",
            "13/13 [==============================] - ETA: 0s - loss: 0.3083 - dice_coefficient: 0.5613\n",
            "Epoch 00033: val_loss did not improve from 0.46412\n",
            "13/13 [==============================] - 25s 2s/step - loss: 0.3083 - dice_coefficient: 0.5613 - val_loss: 0.5291 - val_dice_coefficient: 0.4017\n",
            "Epoch 34/250\n",
            "13/13 [==============================] - ETA: 0s - loss: 0.3034 - dice_coefficient: 0.5537\n",
            "Epoch 00034: val_loss did not improve from 0.46412\n",
            "13/13 [==============================] - 24s 2s/step - loss: 0.3034 - dice_coefficient: 0.5537 - val_loss: 0.4965 - val_dice_coefficient: 0.4074\n",
            "Epoch 35/250\n",
            "13/13 [==============================] - ETA: 0s - loss: 0.2996 - dice_coefficient: 0.5641\n",
            "Epoch 00035: val_loss did not improve from 0.46412\n",
            "13/13 [==============================] - 25s 2s/step - loss: 0.2996 - dice_coefficient: 0.5641 - val_loss: 0.5305 - val_dice_coefficient: 0.4000\n",
            "Epoch 36/250\n",
            "13/13 [==============================] - ETA: 0s - loss: 0.3125 - dice_coefficient: 0.5630\n",
            "Epoch 00036: val_loss did not improve from 0.46412\n",
            "13/13 [==============================] - 25s 2s/step - loss: 0.3125 - dice_coefficient: 0.5630 - val_loss: 0.5076 - val_dice_coefficient: 0.3952\n",
            "Epoch 37/250\n",
            "13/13 [==============================] - ETA: 0s - loss: 0.2949 - dice_coefficient: 0.5831\n",
            "Epoch 00037: val_loss did not improve from 0.46412\n",
            "13/13 [==============================] - 25s 2s/step - loss: 0.2949 - dice_coefficient: 0.5831 - val_loss: 0.5541 - val_dice_coefficient: 0.4239\n",
            "Epoch 38/250\n",
            "13/13 [==============================] - ETA: 0s - loss: 0.3023 - dice_coefficient: 0.5695\n",
            "Epoch 00038: val_loss did not improve from 0.46412\n",
            "13/13 [==============================] - 25s 2s/step - loss: 0.3023 - dice_coefficient: 0.5695 - val_loss: 0.5252 - val_dice_coefficient: 0.4263\n",
            "Epoch 39/250\n",
            "13/13 [==============================] - ETA: 0s - loss: 0.2998 - dice_coefficient: 0.5752\n",
            "Epoch 00039: val_loss did not improve from 0.46412\n",
            "13/13 [==============================] - 24s 2s/step - loss: 0.2998 - dice_coefficient: 0.5752 - val_loss: 0.4923 - val_dice_coefficient: 0.4220\n",
            "Epoch 40/250\n",
            "13/13 [==============================] - ETA: 0s - loss: 0.2870 - dice_coefficient: 0.5875\n",
            "Epoch 00040: val_loss did not improve from 0.46412\n",
            "13/13 [==============================] - 24s 2s/step - loss: 0.2870 - dice_coefficient: 0.5875 - val_loss: 0.5779 - val_dice_coefficient: 0.4304\n",
            "Epoch 41/250\n",
            "13/13 [==============================] - ETA: 0s - loss: 0.2830 - dice_coefficient: 0.5892\n",
            "Epoch 00041: val_loss did not improve from 0.46412\n",
            "13/13 [==============================] - 25s 2s/step - loss: 0.2830 - dice_coefficient: 0.5892 - val_loss: 0.6169 - val_dice_coefficient: 0.4163\n",
            "Epoch 42/250\n",
            "13/13 [==============================] - ETA: 0s - loss: 0.2989 - dice_coefficient: 0.5859\n",
            "Epoch 00042: val_loss did not improve from 0.46412\n",
            "13/13 [==============================] - 24s 2s/step - loss: 0.2989 - dice_coefficient: 0.5859 - val_loss: 0.4963 - val_dice_coefficient: 0.3930\n",
            "Epoch 43/250\n",
            "13/13 [==============================] - ETA: 0s - loss: 0.2904 - dice_coefficient: 0.5931\n",
            "Epoch 00043: val_loss did not improve from 0.46412\n",
            "13/13 [==============================] - 25s 2s/step - loss: 0.2904 - dice_coefficient: 0.5931 - val_loss: 0.5013 - val_dice_coefficient: 0.4223\n",
            "Epoch 44/250\n",
            "13/13 [==============================] - ETA: 0s - loss: 0.2893 - dice_coefficient: 0.5950\n",
            "Epoch 00044: val_loss did not improve from 0.46412\n",
            "13/13 [==============================] - 25s 2s/step - loss: 0.2893 - dice_coefficient: 0.5950 - val_loss: 0.5492 - val_dice_coefficient: 0.4428\n",
            "Epoch 45/250\n",
            "13/13 [==============================] - ETA: 0s - loss: 0.2731 - dice_coefficient: 0.6056\n",
            "Epoch 00045: val_loss did not improve from 0.46412\n",
            "13/13 [==============================] - 25s 2s/step - loss: 0.2731 - dice_coefficient: 0.6056 - val_loss: 0.5355 - val_dice_coefficient: 0.4405\n",
            "Epoch 46/250\n",
            "13/13 [==============================] - ETA: 0s - loss: 0.2865 - dice_coefficient: 0.5952\n",
            "Epoch 00046: val_loss did not improve from 0.46412\n",
            "13/13 [==============================] - 25s 2s/step - loss: 0.2865 - dice_coefficient: 0.5952 - val_loss: 0.5366 - val_dice_coefficient: 0.4530\n",
            "Epoch 47/250\n",
            "13/13 [==============================] - ETA: 0s - loss: 0.2866 - dice_coefficient: 0.5892\n",
            "Epoch 00047: val_loss did not improve from 0.46412\n",
            "13/13 [==============================] - 25s 2s/step - loss: 0.2866 - dice_coefficient: 0.5892 - val_loss: 0.5449 - val_dice_coefficient: 0.3962\n",
            "Epoch 48/250\n",
            "13/13 [==============================] - ETA: 0s - loss: 0.2842 - dice_coefficient: 0.6080\n",
            "Epoch 00048: val_loss did not improve from 0.46412\n",
            "13/13 [==============================] - 25s 2s/step - loss: 0.2842 - dice_coefficient: 0.6080 - val_loss: 0.5364 - val_dice_coefficient: 0.4658\n",
            "Epoch 49/250\n",
            "13/13 [==============================] - ETA: 0s - loss: 0.2752 - dice_coefficient: 0.6104\n",
            "Epoch 00049: val_loss did not improve from 0.46412\n",
            "13/13 [==============================] - 25s 2s/step - loss: 0.2752 - dice_coefficient: 0.6104 - val_loss: 0.5277 - val_dice_coefficient: 0.4181\n",
            "Epoch 50/250\n",
            "13/13 [==============================] - ETA: 0s - loss: 0.2662 - dice_coefficient: 0.6177\n",
            "Epoch 00050: val_loss did not improve from 0.46412\n",
            "13/13 [==============================] - 25s 2s/step - loss: 0.2662 - dice_coefficient: 0.6177 - val_loss: 0.5426 - val_dice_coefficient: 0.4441\n",
            "Epoch 51/250\n",
            "13/13 [==============================] - ETA: 0s - loss: 0.2569 - dice_coefficient: 0.6203\n",
            "Epoch 00051: val_loss did not improve from 0.46412\n",
            "13/13 [==============================] - 25s 2s/step - loss: 0.2569 - dice_coefficient: 0.6203 - val_loss: 0.5092 - val_dice_coefficient: 0.4568\n",
            "Epoch 52/250\n",
            "13/13 [==============================] - ETA: 0s - loss: 0.2587 - dice_coefficient: 0.6417\n",
            "Epoch 00052: val_loss did not improve from 0.46412\n",
            "13/13 [==============================] - 25s 2s/step - loss: 0.2587 - dice_coefficient: 0.6417 - val_loss: 0.5125 - val_dice_coefficient: 0.4626\n",
            "Epoch 53/250\n",
            "13/13 [==============================] - ETA: 0s - loss: 0.2732 - dice_coefficient: 0.6113\n",
            "Epoch 00053: val_loss did not improve from 0.46412\n",
            "13/13 [==============================] - 25s 2s/step - loss: 0.2732 - dice_coefficient: 0.6113 - val_loss: 0.4707 - val_dice_coefficient: 0.4738\n",
            "Epoch 54/250\n",
            "13/13 [==============================] - ETA: 0s - loss: 0.2480 - dice_coefficient: 0.6303\n",
            "Epoch 00054: val_loss did not improve from 0.46412\n",
            "13/13 [==============================] - 25s 2s/step - loss: 0.2480 - dice_coefficient: 0.6303 - val_loss: 0.4949 - val_dice_coefficient: 0.4481\n",
            "Epoch 55/250\n",
            "13/13 [==============================] - ETA: 0s - loss: 0.2625 - dice_coefficient: 0.6367\n",
            "Epoch 00055: val_loss did not improve from 0.46412\n",
            "13/13 [==============================] - 25s 2s/step - loss: 0.2625 - dice_coefficient: 0.6367 - val_loss: 0.5275 - val_dice_coefficient: 0.4530\n",
            "Epoch 56/250\n",
            "13/13 [==============================] - ETA: 0s - loss: 0.2499 - dice_coefficient: 0.6436\n",
            "Epoch 00056: val_loss did not improve from 0.46412\n",
            "13/13 [==============================] - 25s 2s/step - loss: 0.2499 - dice_coefficient: 0.6436 - val_loss: 0.4739 - val_dice_coefficient: 0.4732\n",
            "Epoch 57/250\n",
            "13/13 [==============================] - ETA: 0s - loss: 0.2477 - dice_coefficient: 0.6487\n",
            "Epoch 00057: val_loss did not improve from 0.46412\n",
            "13/13 [==============================] - 25s 2s/step - loss: 0.2477 - dice_coefficient: 0.6487 - val_loss: 0.4842 - val_dice_coefficient: 0.4652\n",
            "Epoch 58/250\n",
            "13/13 [==============================] - ETA: 0s - loss: 0.2555 - dice_coefficient: 0.6273\n",
            "Epoch 00058: val_loss improved from 0.46412 to 0.45401, saving model to model_for_paddy.h5\n",
            "13/13 [==============================] - 25s 2s/step - loss: 0.2555 - dice_coefficient: 0.6273 - val_loss: 0.4540 - val_dice_coefficient: 0.4801\n",
            "Epoch 59/250\n",
            "13/13 [==============================] - ETA: 0s - loss: 0.2485 - dice_coefficient: 0.6341\n",
            "Epoch 00059: val_loss did not improve from 0.45401\n",
            "13/13 [==============================] - 25s 2s/step - loss: 0.2485 - dice_coefficient: 0.6341 - val_loss: 0.4753 - val_dice_coefficient: 0.4567\n",
            "Epoch 60/250\n",
            "13/13 [==============================] - ETA: 0s - loss: 0.2436 - dice_coefficient: 0.6529\n",
            "Epoch 00060: val_loss did not improve from 0.45401\n",
            "13/13 [==============================] - 25s 2s/step - loss: 0.2436 - dice_coefficient: 0.6529 - val_loss: 0.4604 - val_dice_coefficient: 0.5001\n",
            "Epoch 61/250\n",
            "13/13 [==============================] - ETA: 0s - loss: 0.2660 - dice_coefficient: 0.6330\n",
            "Epoch 00061: val_loss did not improve from 0.45401\n",
            "13/13 [==============================] - 25s 2s/step - loss: 0.2660 - dice_coefficient: 0.6330 - val_loss: 0.5268 - val_dice_coefficient: 0.5055\n",
            "Epoch 62/250\n",
            "13/13 [==============================] - ETA: 0s - loss: 0.2402 - dice_coefficient: 0.6497\n",
            "Epoch 00062: val_loss did not improve from 0.45401\n",
            "13/13 [==============================] - 25s 2s/step - loss: 0.2402 - dice_coefficient: 0.6497 - val_loss: 0.5481 - val_dice_coefficient: 0.4810\n",
            "Epoch 63/250\n",
            "13/13 [==============================] - ETA: 0s - loss: 0.2438 - dice_coefficient: 0.6472\n",
            "Epoch 00063: val_loss did not improve from 0.45401\n",
            "13/13 [==============================] - 25s 2s/step - loss: 0.2438 - dice_coefficient: 0.6472 - val_loss: 0.5172 - val_dice_coefficient: 0.4195\n",
            "Epoch 64/250\n",
            "13/13 [==============================] - ETA: 0s - loss: 0.2324 - dice_coefficient: 0.6732\n",
            "Epoch 00064: val_loss did not improve from 0.45401\n",
            "13/13 [==============================] - 25s 2s/step - loss: 0.2324 - dice_coefficient: 0.6732 - val_loss: 0.6322 - val_dice_coefficient: 0.5102\n",
            "Epoch 65/250\n",
            "13/13 [==============================] - ETA: 0s - loss: 0.2531 - dice_coefficient: 0.6554\n",
            "Epoch 00065: val_loss did not improve from 0.45401\n",
            "13/13 [==============================] - 25s 2s/step - loss: 0.2531 - dice_coefficient: 0.6554 - val_loss: 0.6825 - val_dice_coefficient: 0.4709\n",
            "Epoch 66/250\n",
            "13/13 [==============================] - ETA: 0s - loss: 0.2345 - dice_coefficient: 0.6619\n",
            "Epoch 00066: val_loss did not improve from 0.45401\n",
            "13/13 [==============================] - 25s 2s/step - loss: 0.2345 - dice_coefficient: 0.6619 - val_loss: 0.5772 - val_dice_coefficient: 0.4932\n",
            "Epoch 67/250\n",
            "13/13 [==============================] - ETA: 0s - loss: 0.2406 - dice_coefficient: 0.6548\n",
            "Epoch 00067: val_loss did not improve from 0.45401\n",
            "13/13 [==============================] - 25s 2s/step - loss: 0.2406 - dice_coefficient: 0.6548 - val_loss: 0.5044 - val_dice_coefficient: 0.4685\n",
            "Epoch 68/250\n",
            "13/13 [==============================] - ETA: 0s - loss: 0.2263 - dice_coefficient: 0.6715\n",
            "Epoch 00068: val_loss did not improve from 0.45401\n",
            "13/13 [==============================] - 25s 2s/step - loss: 0.2263 - dice_coefficient: 0.6715 - val_loss: 0.6750 - val_dice_coefficient: 0.4734\n",
            "Epoch 69/250\n",
            "13/13 [==============================] - ETA: 0s - loss: 0.2421 - dice_coefficient: 0.6653\n",
            "Epoch 00069: val_loss did not improve from 0.45401\n",
            "13/13 [==============================] - 25s 2s/step - loss: 0.2421 - dice_coefficient: 0.6653 - val_loss: 0.4990 - val_dice_coefficient: 0.4540\n",
            "Epoch 70/250\n",
            "13/13 [==============================] - ETA: 0s - loss: 0.2343 - dice_coefficient: 0.6765\n",
            "Epoch 00070: val_loss did not improve from 0.45401\n",
            "13/13 [==============================] - 25s 2s/step - loss: 0.2343 - dice_coefficient: 0.6765 - val_loss: 0.5895 - val_dice_coefficient: 0.4756\n",
            "Epoch 71/250\n",
            "13/13 [==============================] - ETA: 0s - loss: 0.2333 - dice_coefficient: 0.6722\n",
            "Epoch 00071: val_loss did not improve from 0.45401\n",
            "13/13 [==============================] - 25s 2s/step - loss: 0.2333 - dice_coefficient: 0.6722 - val_loss: 0.5035 - val_dice_coefficient: 0.5166\n",
            "Epoch 72/250\n",
            "13/13 [==============================] - ETA: 0s - loss: 0.2206 - dice_coefficient: 0.6760\n",
            "Epoch 00072: val_loss did not improve from 0.45401\n",
            "13/13 [==============================] - 25s 2s/step - loss: 0.2206 - dice_coefficient: 0.6760 - val_loss: 0.5303 - val_dice_coefficient: 0.4734\n",
            "Epoch 73/250\n",
            "13/13 [==============================] - ETA: 0s - loss: 0.2380 - dice_coefficient: 0.6727\n",
            "Epoch 00073: val_loss did not improve from 0.45401\n",
            "13/13 [==============================] - 25s 2s/step - loss: 0.2380 - dice_coefficient: 0.6727 - val_loss: 0.5041 - val_dice_coefficient: 0.4465\n",
            "Epoch 74/250\n",
            "13/13 [==============================] - ETA: 0s - loss: 0.2197 - dice_coefficient: 0.6887\n",
            "Epoch 00074: val_loss did not improve from 0.45401\n",
            "13/13 [==============================] - 25s 2s/step - loss: 0.2197 - dice_coefficient: 0.6887 - val_loss: 0.5686 - val_dice_coefficient: 0.4584\n",
            "Epoch 75/250\n",
            "13/13 [==============================] - ETA: 0s - loss: 0.2270 - dice_coefficient: 0.6872\n",
            "Epoch 00075: val_loss did not improve from 0.45401\n",
            "13/13 [==============================] - 25s 2s/step - loss: 0.2270 - dice_coefficient: 0.6872 - val_loss: 0.7194 - val_dice_coefficient: 0.4874\n",
            "Epoch 76/250\n",
            "13/13 [==============================] - ETA: 0s - loss: 0.2188 - dice_coefficient: 0.7025\n",
            "Epoch 00076: val_loss did not improve from 0.45401\n",
            "13/13 [==============================] - 25s 2s/step - loss: 0.2188 - dice_coefficient: 0.7025 - val_loss: 0.5939 - val_dice_coefficient: 0.5226\n",
            "Epoch 77/250\n",
            "13/13 [==============================] - ETA: 0s - loss: 0.2337 - dice_coefficient: 0.6776\n",
            "Epoch 00077: val_loss did not improve from 0.45401\n",
            "13/13 [==============================] - 25s 2s/step - loss: 0.2337 - dice_coefficient: 0.6776 - val_loss: 0.5151 - val_dice_coefficient: 0.5028\n",
            "Epoch 78/250\n",
            "13/13 [==============================] - ETA: 0s - loss: 0.2394 - dice_coefficient: 0.6742\n",
            "Epoch 00078: val_loss did not improve from 0.45401\n",
            "13/13 [==============================] - 25s 2s/step - loss: 0.2394 - dice_coefficient: 0.6742 - val_loss: 0.5622 - val_dice_coefficient: 0.4732\n",
            "Epoch 79/250\n",
            "13/13 [==============================] - ETA: 0s - loss: 0.2189 - dice_coefficient: 0.6971\n",
            "Epoch 00079: val_loss did not improve from 0.45401\n",
            "13/13 [==============================] - 25s 2s/step - loss: 0.2189 - dice_coefficient: 0.6971 - val_loss: 0.5163 - val_dice_coefficient: 0.5232\n",
            "Epoch 80/250\n",
            "13/13 [==============================] - ETA: 0s - loss: 0.2210 - dice_coefficient: 0.6907\n",
            "Epoch 00080: val_loss did not improve from 0.45401\n",
            "13/13 [==============================] - 25s 2s/step - loss: 0.2210 - dice_coefficient: 0.6907 - val_loss: 0.5049 - val_dice_coefficient: 0.5524\n",
            "Epoch 81/250\n",
            "13/13 [==============================] - ETA: 0s - loss: 0.2014 - dice_coefficient: 0.7050\n",
            "Epoch 00081: val_loss did not improve from 0.45401\n",
            "13/13 [==============================] - 25s 2s/step - loss: 0.2014 - dice_coefficient: 0.7050 - val_loss: 0.5394 - val_dice_coefficient: 0.5567\n",
            "Epoch 82/250\n",
            "13/13 [==============================] - ETA: 0s - loss: 0.2128 - dice_coefficient: 0.6953\n",
            "Epoch 00082: val_loss did not improve from 0.45401\n",
            "13/13 [==============================] - 25s 2s/step - loss: 0.2128 - dice_coefficient: 0.6953 - val_loss: 0.6354 - val_dice_coefficient: 0.4263\n",
            "Epoch 83/250\n",
            "13/13 [==============================] - ETA: 0s - loss: 0.2193 - dice_coefficient: 0.6921\n",
            "Epoch 00083: val_loss did not improve from 0.45401\n",
            "13/13 [==============================] - 25s 2s/step - loss: 0.2193 - dice_coefficient: 0.6921 - val_loss: 0.4553 - val_dice_coefficient: 0.5543\n",
            "Epoch 84/250\n",
            "13/13 [==============================] - ETA: 0s - loss: 0.2092 - dice_coefficient: 0.7043\n",
            "Epoch 00084: val_loss did not improve from 0.45401\n",
            "13/13 [==============================] - 25s 2s/step - loss: 0.2092 - dice_coefficient: 0.7043 - val_loss: 0.4790 - val_dice_coefficient: 0.5977\n",
            "Epoch 85/250\n",
            "13/13 [==============================] - ETA: 0s - loss: 0.2103 - dice_coefficient: 0.7021\n",
            "Epoch 00085: val_loss did not improve from 0.45401\n",
            "13/13 [==============================] - 25s 2s/step - loss: 0.2103 - dice_coefficient: 0.7021 - val_loss: 0.5485 - val_dice_coefficient: 0.4690\n",
            "Epoch 86/250\n",
            "13/13 [==============================] - ETA: 0s - loss: 0.2079 - dice_coefficient: 0.6984\n",
            "Epoch 00086: val_loss did not improve from 0.45401\n",
            "13/13 [==============================] - 25s 2s/step - loss: 0.2079 - dice_coefficient: 0.6984 - val_loss: 0.5137 - val_dice_coefficient: 0.5443\n",
            "Epoch 87/250\n",
            "13/13 [==============================] - ETA: 0s - loss: 0.2137 - dice_coefficient: 0.6972\n",
            "Epoch 00087: val_loss did not improve from 0.45401\n",
            "13/13 [==============================] - 25s 2s/step - loss: 0.2137 - dice_coefficient: 0.6972 - val_loss: 0.5669 - val_dice_coefficient: 0.5747\n",
            "Epoch 88/250\n",
            "13/13 [==============================] - ETA: 0s - loss: 0.2067 - dice_coefficient: 0.7170\n",
            "Epoch 00088: val_loss did not improve from 0.45401\n",
            "13/13 [==============================] - 25s 2s/step - loss: 0.2067 - dice_coefficient: 0.7170 - val_loss: 0.8142 - val_dice_coefficient: 0.5341\n",
            "Epoch 89/250\n",
            "13/13 [==============================] - ETA: 0s - loss: 0.2140 - dice_coefficient: 0.6977\n",
            "Epoch 00089: val_loss did not improve from 0.45401\n",
            "13/13 [==============================] - 25s 2s/step - loss: 0.2140 - dice_coefficient: 0.6977 - val_loss: 0.7156 - val_dice_coefficient: 0.5160\n",
            "Epoch 90/250\n",
            "13/13 [==============================] - ETA: 0s - loss: 0.1883 - dice_coefficient: 0.7305\n",
            "Epoch 00090: val_loss did not improve from 0.45401\n",
            "13/13 [==============================] - 25s 2s/step - loss: 0.1883 - dice_coefficient: 0.7305 - val_loss: 0.4688 - val_dice_coefficient: 0.5559\n",
            "Epoch 91/250\n",
            "13/13 [==============================] - ETA: 0s - loss: 0.2014 - dice_coefficient: 0.7155\n",
            "Epoch 00091: val_loss did not improve from 0.45401\n",
            "13/13 [==============================] - 25s 2s/step - loss: 0.2014 - dice_coefficient: 0.7155 - val_loss: 0.6552 - val_dice_coefficient: 0.4775\n",
            "Epoch 92/250\n",
            "13/13 [==============================] - ETA: 0s - loss: 0.1928 - dice_coefficient: 0.7279\n",
            "Epoch 00092: val_loss did not improve from 0.45401\n",
            "13/13 [==============================] - 25s 2s/step - loss: 0.1928 - dice_coefficient: 0.7279 - val_loss: 0.4902 - val_dice_coefficient: 0.5188\n",
            "Epoch 93/250\n",
            "13/13 [==============================] - ETA: 0s - loss: 0.1943 - dice_coefficient: 0.7244\n",
            "Epoch 00093: val_loss improved from 0.45401 to 0.44909, saving model to model_for_paddy.h5\n",
            "13/13 [==============================] - 25s 2s/step - loss: 0.1943 - dice_coefficient: 0.7244 - val_loss: 0.4491 - val_dice_coefficient: 0.5546\n",
            "Epoch 94/250\n",
            "13/13 [==============================] - ETA: 0s - loss: 0.1960 - dice_coefficient: 0.7286\n",
            "Epoch 00094: val_loss did not improve from 0.44909\n",
            "13/13 [==============================] - 25s 2s/step - loss: 0.1960 - dice_coefficient: 0.7286 - val_loss: 0.5605 - val_dice_coefficient: 0.4253\n",
            "Epoch 95/250\n",
            "13/13 [==============================] - ETA: 0s - loss: 0.2054 - dice_coefficient: 0.7087\n",
            "Epoch 00095: val_loss did not improve from 0.44909\n",
            "13/13 [==============================] - 25s 2s/step - loss: 0.2054 - dice_coefficient: 0.7087 - val_loss: 0.5374 - val_dice_coefficient: 0.4633\n",
            "Epoch 96/250\n",
            "13/13 [==============================] - ETA: 0s - loss: 0.2086 - dice_coefficient: 0.7189\n",
            "Epoch 00096: val_loss did not improve from 0.44909\n",
            "13/13 [==============================] - 25s 2s/step - loss: 0.2086 - dice_coefficient: 0.7189 - val_loss: 0.5622 - val_dice_coefficient: 0.5548\n",
            "Epoch 97/250\n",
            "13/13 [==============================] - ETA: 0s - loss: 0.1960 - dice_coefficient: 0.7198\n",
            "Epoch 00097: val_loss did not improve from 0.44909\n",
            "13/13 [==============================] - 25s 2s/step - loss: 0.1960 - dice_coefficient: 0.7198 - val_loss: 0.5166 - val_dice_coefficient: 0.5611\n",
            "Epoch 98/250\n",
            "13/13 [==============================] - ETA: 0s - loss: 0.2005 - dice_coefficient: 0.7177\n",
            "Epoch 00098: val_loss did not improve from 0.44909\n",
            "13/13 [==============================] - 25s 2s/step - loss: 0.2005 - dice_coefficient: 0.7177 - val_loss: 0.5545 - val_dice_coefficient: 0.4582\n",
            "Epoch 99/250\n",
            "13/13 [==============================] - ETA: 0s - loss: 0.1739 - dice_coefficient: 0.7531\n",
            "Epoch 00099: val_loss did not improve from 0.44909\n",
            "13/13 [==============================] - 25s 2s/step - loss: 0.1739 - dice_coefficient: 0.7531 - val_loss: 0.5480 - val_dice_coefficient: 0.5394\n",
            "Epoch 100/250\n",
            "13/13 [==============================] - ETA: 0s - loss: 0.1925 - dice_coefficient: 0.7275\n",
            "Epoch 00100: val_loss did not improve from 0.44909\n",
            "13/13 [==============================] - 25s 2s/step - loss: 0.1925 - dice_coefficient: 0.7275 - val_loss: 0.4863 - val_dice_coefficient: 0.5631\n",
            "Epoch 101/250\n",
            "13/13 [==============================] - ETA: 0s - loss: 0.1984 - dice_coefficient: 0.7278\n",
            "Epoch 00101: val_loss did not improve from 0.44909\n",
            "13/13 [==============================] - 25s 2s/step - loss: 0.1984 - dice_coefficient: 0.7278 - val_loss: 0.6115 - val_dice_coefficient: 0.5666\n",
            "Epoch 102/250\n",
            "13/13 [==============================] - ETA: 0s - loss: 0.1893 - dice_coefficient: 0.7405\n",
            "Epoch 00102: val_loss did not improve from 0.44909\n",
            "13/13 [==============================] - 25s 2s/step - loss: 0.1893 - dice_coefficient: 0.7405 - val_loss: 0.4986 - val_dice_coefficient: 0.4786\n",
            "Epoch 103/250\n",
            "13/13 [==============================] - ETA: 0s - loss: 0.1732 - dice_coefficient: 0.7455\n",
            "Epoch 00103: val_loss did not improve from 0.44909\n",
            "13/13 [==============================] - 25s 2s/step - loss: 0.1732 - dice_coefficient: 0.7455 - val_loss: 0.6359 - val_dice_coefficient: 0.5492\n",
            "Epoch 104/250\n",
            "13/13 [==============================] - ETA: 0s - loss: 0.1793 - dice_coefficient: 0.7511\n",
            "Epoch 00104: val_loss did not improve from 0.44909\n",
            "13/13 [==============================] - 25s 2s/step - loss: 0.1793 - dice_coefficient: 0.7511 - val_loss: 0.6293 - val_dice_coefficient: 0.5741\n",
            "Epoch 105/250\n",
            "13/13 [==============================] - ETA: 0s - loss: 0.1844 - dice_coefficient: 0.7359\n",
            "Epoch 00105: val_loss did not improve from 0.44909\n",
            "13/13 [==============================] - 25s 2s/step - loss: 0.1844 - dice_coefficient: 0.7359 - val_loss: 0.4796 - val_dice_coefficient: 0.5880\n",
            "Epoch 106/250\n",
            "13/13 [==============================] - ETA: 0s - loss: 0.1948 - dice_coefficient: 0.7301\n",
            "Epoch 00106: val_loss did not improve from 0.44909\n",
            "13/13 [==============================] - 25s 2s/step - loss: 0.1948 - dice_coefficient: 0.7301 - val_loss: 0.7889 - val_dice_coefficient: 0.5426\n",
            "Epoch 107/250\n",
            "13/13 [==============================] - ETA: 0s - loss: 0.2032 - dice_coefficient: 0.7273\n",
            "Epoch 00107: val_loss did not improve from 0.44909\n",
            "13/13 [==============================] - 25s 2s/step - loss: 0.2032 - dice_coefficient: 0.7273 - val_loss: 0.4569 - val_dice_coefficient: 0.5232\n",
            "Epoch 108/250\n",
            "13/13 [==============================] - ETA: 0s - loss: 0.1760 - dice_coefficient: 0.7433\n",
            "Epoch 00108: val_loss did not improve from 0.44909\n",
            "13/13 [==============================] - 25s 2s/step - loss: 0.1760 - dice_coefficient: 0.7433 - val_loss: 0.5559 - val_dice_coefficient: 0.5770\n",
            "Epoch 109/250\n",
            "13/13 [==============================] - ETA: 0s - loss: 0.1671 - dice_coefficient: 0.7642\n",
            "Epoch 00109: val_loss did not improve from 0.44909\n",
            "13/13 [==============================] - 25s 2s/step - loss: 0.1671 - dice_coefficient: 0.7642 - val_loss: 0.5753 - val_dice_coefficient: 0.6143\n",
            "Epoch 110/250\n",
            "13/13 [==============================] - ETA: 0s - loss: 0.1703 - dice_coefficient: 0.7574\n",
            "Epoch 00110: val_loss did not improve from 0.44909\n",
            "13/13 [==============================] - 25s 2s/step - loss: 0.1703 - dice_coefficient: 0.7574 - val_loss: 0.6125 - val_dice_coefficient: 0.5547\n",
            "Epoch 111/250\n",
            "13/13 [==============================] - ETA: 0s - loss: 0.1758 - dice_coefficient: 0.7526\n",
            "Epoch 00111: val_loss did not improve from 0.44909\n",
            "13/13 [==============================] - 25s 2s/step - loss: 0.1758 - dice_coefficient: 0.7526 - val_loss: 0.5633 - val_dice_coefficient: 0.5384\n",
            "Epoch 112/250\n",
            "13/13 [==============================] - ETA: 0s - loss: 0.1882 - dice_coefficient: 0.7417\n",
            "Epoch 00112: val_loss did not improve from 0.44909\n",
            "13/13 [==============================] - 25s 2s/step - loss: 0.1882 - dice_coefficient: 0.7417 - val_loss: 0.4678 - val_dice_coefficient: 0.5980\n",
            "Epoch 113/250\n",
            "13/13 [==============================] - ETA: 0s - loss: 0.1629 - dice_coefficient: 0.7715\n",
            "Epoch 00113: val_loss did not improve from 0.44909\n",
            "13/13 [==============================] - 25s 2s/step - loss: 0.1629 - dice_coefficient: 0.7715 - val_loss: 0.4657 - val_dice_coefficient: 0.5940\n",
            "Epoch 114/250\n",
            "13/13 [==============================] - ETA: 0s - loss: 0.1883 - dice_coefficient: 0.7394\n",
            "Epoch 00114: val_loss did not improve from 0.44909\n",
            "13/13 [==============================] - 25s 2s/step - loss: 0.1883 - dice_coefficient: 0.7394 - val_loss: 0.6142 - val_dice_coefficient: 0.5839\n",
            "Epoch 115/250\n",
            "13/13 [==============================] - ETA: 0s - loss: 0.1712 - dice_coefficient: 0.7602\n",
            "Epoch 00115: val_loss improved from 0.44909 to 0.42134, saving model to model_for_paddy.h5\n",
            "13/13 [==============================] - 25s 2s/step - loss: 0.1712 - dice_coefficient: 0.7602 - val_loss: 0.4213 - val_dice_coefficient: 0.5425\n",
            "Epoch 116/250\n",
            "13/13 [==============================] - ETA: 0s - loss: 0.1618 - dice_coefficient: 0.7751\n",
            "Epoch 00116: val_loss did not improve from 0.42134\n",
            "13/13 [==============================] - 25s 2s/step - loss: 0.1618 - dice_coefficient: 0.7751 - val_loss: 0.4942 - val_dice_coefficient: 0.6202\n",
            "Epoch 117/250\n",
            "13/13 [==============================] - ETA: 0s - loss: 0.1605 - dice_coefficient: 0.7693\n",
            "Epoch 00117: val_loss did not improve from 0.42134\n",
            "13/13 [==============================] - 25s 2s/step - loss: 0.1605 - dice_coefficient: 0.7693 - val_loss: 0.6447 - val_dice_coefficient: 0.5637\n",
            "Epoch 118/250\n",
            "13/13 [==============================] - ETA: 0s - loss: 0.1766 - dice_coefficient: 0.7607\n",
            "Epoch 00118: val_loss did not improve from 0.42134\n",
            "13/13 [==============================] - 25s 2s/step - loss: 0.1766 - dice_coefficient: 0.7607 - val_loss: 0.5740 - val_dice_coefficient: 0.5893\n",
            "Epoch 119/250\n",
            "13/13 [==============================] - ETA: 0s - loss: 0.1637 - dice_coefficient: 0.7796\n",
            "Epoch 00119: val_loss did not improve from 0.42134\n",
            "13/13 [==============================] - 25s 2s/step - loss: 0.1637 - dice_coefficient: 0.7796 - val_loss: 0.5073 - val_dice_coefficient: 0.6084\n",
            "Epoch 120/250\n",
            "13/13 [==============================] - ETA: 0s - loss: 0.1747 - dice_coefficient: 0.7501\n",
            "Epoch 00120: val_loss did not improve from 0.42134\n",
            "13/13 [==============================] - 25s 2s/step - loss: 0.1747 - dice_coefficient: 0.7501 - val_loss: 0.4853 - val_dice_coefficient: 0.5569\n",
            "Epoch 121/250\n",
            "13/13 [==============================] - ETA: 0s - loss: 0.1720 - dice_coefficient: 0.7581\n",
            "Epoch 00121: val_loss did not improve from 0.42134\n",
            "13/13 [==============================] - 25s 2s/step - loss: 0.1720 - dice_coefficient: 0.7581 - val_loss: 0.5152 - val_dice_coefficient: 0.5848\n",
            "Epoch 122/250\n",
            "13/13 [==============================] - ETA: 0s - loss: 0.1785 - dice_coefficient: 0.7609\n",
            "Epoch 00122: val_loss did not improve from 0.42134\n",
            "13/13 [==============================] - 25s 2s/step - loss: 0.1785 - dice_coefficient: 0.7609 - val_loss: 0.4552 - val_dice_coefficient: 0.5692\n",
            "Epoch 123/250\n",
            "13/13 [==============================] - ETA: 0s - loss: 0.1544 - dice_coefficient: 0.7788\n",
            "Epoch 00123: val_loss did not improve from 0.42134\n",
            "13/13 [==============================] - 25s 2s/step - loss: 0.1544 - dice_coefficient: 0.7788 - val_loss: 0.5076 - val_dice_coefficient: 0.6125\n",
            "Epoch 124/250\n",
            "13/13 [==============================] - ETA: 0s - loss: 0.1665 - dice_coefficient: 0.7650\n",
            "Epoch 00124: val_loss did not improve from 0.42134\n",
            "13/13 [==============================] - 25s 2s/step - loss: 0.1665 - dice_coefficient: 0.7650 - val_loss: 0.7410 - val_dice_coefficient: 0.5928\n",
            "Epoch 125/250\n",
            "13/13 [==============================] - ETA: 0s - loss: 0.1694 - dice_coefficient: 0.7592\n",
            "Epoch 00125: val_loss did not improve from 0.42134\n",
            "13/13 [==============================] - 25s 2s/step - loss: 0.1694 - dice_coefficient: 0.7592 - val_loss: 0.5823 - val_dice_coefficient: 0.5957\n",
            "Epoch 126/250\n",
            "13/13 [==============================] - ETA: 0s - loss: 0.1551 - dice_coefficient: 0.7866\n",
            "Epoch 00126: val_loss did not improve from 0.42134\n",
            "13/13 [==============================] - 25s 2s/step - loss: 0.1551 - dice_coefficient: 0.7866 - val_loss: 0.5693 - val_dice_coefficient: 0.5712\n",
            "Epoch 127/250\n",
            "13/13 [==============================] - ETA: 0s - loss: 0.1609 - dice_coefficient: 0.7724\n",
            "Epoch 00127: val_loss did not improve from 0.42134\n",
            "13/13 [==============================] - 25s 2s/step - loss: 0.1609 - dice_coefficient: 0.7724 - val_loss: 0.4740 - val_dice_coefficient: 0.5468\n",
            "Epoch 128/250\n",
            "13/13 [==============================] - ETA: 0s - loss: 0.1819 - dice_coefficient: 0.7577\n",
            "Epoch 00128: val_loss did not improve from 0.42134\n",
            "13/13 [==============================] - 25s 2s/step - loss: 0.1819 - dice_coefficient: 0.7577 - val_loss: 0.4671 - val_dice_coefficient: 0.5335\n",
            "Epoch 129/250\n",
            "13/13 [==============================] - ETA: 0s - loss: 0.1598 - dice_coefficient: 0.7676\n",
            "Epoch 00129: val_loss did not improve from 0.42134\n",
            "13/13 [==============================] - 25s 2s/step - loss: 0.1598 - dice_coefficient: 0.7676 - val_loss: 0.5615 - val_dice_coefficient: 0.6001\n",
            "Epoch 130/250\n",
            "13/13 [==============================] - ETA: 0s - loss: 0.1498 - dice_coefficient: 0.7880\n",
            "Epoch 00130: val_loss did not improve from 0.42134\n",
            "13/13 [==============================] - 25s 2s/step - loss: 0.1498 - dice_coefficient: 0.7880 - val_loss: 0.6123 - val_dice_coefficient: 0.5016\n",
            "Epoch 131/250\n",
            "13/13 [==============================] - ETA: 0s - loss: 0.1516 - dice_coefficient: 0.7928\n",
            "Epoch 00131: val_loss did not improve from 0.42134\n",
            "13/13 [==============================] - 25s 2s/step - loss: 0.1516 - dice_coefficient: 0.7928 - val_loss: 0.5304 - val_dice_coefficient: 0.5092\n",
            "Epoch 132/250\n",
            "13/13 [==============================] - ETA: 0s - loss: 0.1538 - dice_coefficient: 0.7833\n",
            "Epoch 00132: val_loss did not improve from 0.42134\n",
            "13/13 [==============================] - 25s 2s/step - loss: 0.1538 - dice_coefficient: 0.7833 - val_loss: 0.5570 - val_dice_coefficient: 0.5687\n",
            "Epoch 133/250\n",
            "13/13 [==============================] - ETA: 0s - loss: 0.1634 - dice_coefficient: 0.7784\n",
            "Epoch 00133: val_loss did not improve from 0.42134\n",
            "13/13 [==============================] - 25s 2s/step - loss: 0.1634 - dice_coefficient: 0.7784 - val_loss: 0.5983 - val_dice_coefficient: 0.6043\n",
            "Epoch 134/250\n",
            "13/13 [==============================] - ETA: 0s - loss: 0.1576 - dice_coefficient: 0.7796\n",
            "Epoch 00134: val_loss did not improve from 0.42134\n",
            "13/13 [==============================] - 25s 2s/step - loss: 0.1576 - dice_coefficient: 0.7796 - val_loss: 0.6090 - val_dice_coefficient: 0.6052\n",
            "Epoch 135/250\n",
            "13/13 [==============================] - ETA: 0s - loss: 0.1546 - dice_coefficient: 0.7894\n",
            "Epoch 00135: val_loss did not improve from 0.42134\n",
            "13/13 [==============================] - 25s 2s/step - loss: 0.1546 - dice_coefficient: 0.7894 - val_loss: 1.2261 - val_dice_coefficient: 0.5547\n",
            "Epoch 136/250\n",
            "13/13 [==============================] - ETA: 0s - loss: 0.1465 - dice_coefficient: 0.7936\n",
            "Epoch 00136: val_loss did not improve from 0.42134\n",
            "13/13 [==============================] - 25s 2s/step - loss: 0.1465 - dice_coefficient: 0.7936 - val_loss: 0.6216 - val_dice_coefficient: 0.5807\n",
            "Epoch 137/250\n",
            "13/13 [==============================] - ETA: 0s - loss: 0.1499 - dice_coefficient: 0.7938\n",
            "Epoch 00137: val_loss did not improve from 0.42134\n",
            "13/13 [==============================] - 25s 2s/step - loss: 0.1499 - dice_coefficient: 0.7938 - val_loss: 0.5025 - val_dice_coefficient: 0.5958\n",
            "Epoch 138/250\n",
            "13/13 [==============================] - ETA: 0s - loss: 0.1613 - dice_coefficient: 0.7866\n",
            "Epoch 00138: val_loss did not improve from 0.42134\n",
            "13/13 [==============================] - 25s 2s/step - loss: 0.1613 - dice_coefficient: 0.7866 - val_loss: 0.6522 - val_dice_coefficient: 0.5804\n",
            "Epoch 139/250\n",
            "13/13 [==============================] - ETA: 0s - loss: 0.1542 - dice_coefficient: 0.7924\n",
            "Epoch 00139: val_loss did not improve from 0.42134\n",
            "13/13 [==============================] - 25s 2s/step - loss: 0.1542 - dice_coefficient: 0.7924 - val_loss: 0.4796 - val_dice_coefficient: 0.6095\n",
            "Epoch 140/250\n",
            "13/13 [==============================] - ETA: 0s - loss: 0.1537 - dice_coefficient: 0.7794\n",
            "Epoch 00140: val_loss did not improve from 0.42134\n",
            "13/13 [==============================] - 25s 2s/step - loss: 0.1537 - dice_coefficient: 0.7794 - val_loss: 0.9540 - val_dice_coefficient: 0.5623\n",
            "Epoch 141/250\n",
            "13/13 [==============================] - ETA: 0s - loss: 0.1581 - dice_coefficient: 0.7820\n",
            "Epoch 00141: val_loss did not improve from 0.42134\n",
            "13/13 [==============================] - 25s 2s/step - loss: 0.1581 - dice_coefficient: 0.7820 - val_loss: 0.7652 - val_dice_coefficient: 0.5785\n",
            "Epoch 142/250\n",
            "13/13 [==============================] - ETA: 0s - loss: 0.1638 - dice_coefficient: 0.7828\n",
            "Epoch 00142: val_loss did not improve from 0.42134\n",
            "13/13 [==============================] - 25s 2s/step - loss: 0.1638 - dice_coefficient: 0.7828 - val_loss: 0.4960 - val_dice_coefficient: 0.5782\n",
            "Epoch 143/250\n",
            "13/13 [==============================] - ETA: 0s - loss: 0.1525 - dice_coefficient: 0.7852\n",
            "Epoch 00143: val_loss did not improve from 0.42134\n",
            "13/13 [==============================] - 25s 2s/step - loss: 0.1525 - dice_coefficient: 0.7852 - val_loss: 0.5506 - val_dice_coefficient: 0.6380\n",
            "Epoch 144/250\n",
            "13/13 [==============================] - ETA: 0s - loss: 0.1449 - dice_coefficient: 0.7992\n",
            "Epoch 00144: val_loss did not improve from 0.42134\n",
            "13/13 [==============================] - 25s 2s/step - loss: 0.1449 - dice_coefficient: 0.7992 - val_loss: 0.4739 - val_dice_coefficient: 0.6201\n",
            "Epoch 145/250\n",
            "13/13 [==============================] - ETA: 0s - loss: 0.1547 - dice_coefficient: 0.7800\n",
            "Epoch 00145: val_loss did not improve from 0.42134\n",
            "13/13 [==============================] - 25s 2s/step - loss: 0.1547 - dice_coefficient: 0.7800 - val_loss: 0.5142 - val_dice_coefficient: 0.6256\n",
            "Epoch 146/250\n",
            "13/13 [==============================] - ETA: 0s - loss: 0.1465 - dice_coefficient: 0.7914\n",
            "Epoch 00146: val_loss did not improve from 0.42134\n",
            "13/13 [==============================] - 25s 2s/step - loss: 0.1465 - dice_coefficient: 0.7914 - val_loss: 0.5909 - val_dice_coefficient: 0.6014\n",
            "Epoch 147/250\n",
            "13/13 [==============================] - ETA: 0s - loss: 0.1514 - dice_coefficient: 0.7864\n",
            "Epoch 00147: val_loss did not improve from 0.42134\n",
            "13/13 [==============================] - 25s 2s/step - loss: 0.1514 - dice_coefficient: 0.7864 - val_loss: 0.5626 - val_dice_coefficient: 0.6425\n",
            "Epoch 148/250\n",
            "13/13 [==============================] - ETA: 0s - loss: 0.1502 - dice_coefficient: 0.7878\n",
            "Epoch 00148: val_loss did not improve from 0.42134\n",
            "13/13 [==============================] - 25s 2s/step - loss: 0.1502 - dice_coefficient: 0.7878 - val_loss: 0.4906 - val_dice_coefficient: 0.6166\n",
            "Epoch 149/250\n",
            "13/13 [==============================] - ETA: 0s - loss: 0.1506 - dice_coefficient: 0.7998\n",
            "Epoch 00149: val_loss did not improve from 0.42134\n",
            "13/13 [==============================] - 25s 2s/step - loss: 0.1506 - dice_coefficient: 0.7998 - val_loss: 0.5318 - val_dice_coefficient: 0.6203\n",
            "Epoch 150/250\n",
            "13/13 [==============================] - ETA: 0s - loss: 0.1380 - dice_coefficient: 0.8048\n",
            "Epoch 00150: val_loss did not improve from 0.42134\n",
            "13/13 [==============================] - 25s 2s/step - loss: 0.1380 - dice_coefficient: 0.8048 - val_loss: 0.4627 - val_dice_coefficient: 0.6006\n",
            "Epoch 151/250\n",
            "13/13 [==============================] - ETA: 0s - loss: 0.1459 - dice_coefficient: 0.7981\n",
            "Epoch 00151: val_loss did not improve from 0.42134\n",
            "13/13 [==============================] - 25s 2s/step - loss: 0.1459 - dice_coefficient: 0.7981 - val_loss: 0.4450 - val_dice_coefficient: 0.6366\n",
            "Epoch 152/250\n",
            "13/13 [==============================] - ETA: 0s - loss: 0.1516 - dice_coefficient: 0.7957\n",
            "Epoch 00152: val_loss improved from 0.42134 to 0.41680, saving model to model_for_paddy.h5\n",
            "13/13 [==============================] - 25s 2s/step - loss: 0.1516 - dice_coefficient: 0.7957 - val_loss: 0.4168 - val_dice_coefficient: 0.5846\n",
            "Epoch 153/250\n",
            "13/13 [==============================] - ETA: 0s - loss: 0.1602 - dice_coefficient: 0.7826\n",
            "Epoch 00153: val_loss did not improve from 0.41680\n",
            "13/13 [==============================] - 25s 2s/step - loss: 0.1602 - dice_coefficient: 0.7826 - val_loss: 0.6160 - val_dice_coefficient: 0.6288\n",
            "Epoch 154/250\n",
            "13/13 [==============================] - ETA: 0s - loss: 0.1467 - dice_coefficient: 0.8033\n",
            "Epoch 00154: val_loss did not improve from 0.41680\n",
            "13/13 [==============================] - 25s 2s/step - loss: 0.1467 - dice_coefficient: 0.8033 - val_loss: 0.5071 - val_dice_coefficient: 0.6087\n",
            "Epoch 155/250\n",
            "13/13 [==============================] - ETA: 0s - loss: 0.1527 - dice_coefficient: 0.7875\n",
            "Epoch 00155: val_loss did not improve from 0.41680\n",
            "13/13 [==============================] - 24s 2s/step - loss: 0.1527 - dice_coefficient: 0.7875 - val_loss: 0.5913 - val_dice_coefficient: 0.6218\n",
            "Epoch 156/250\n",
            "13/13 [==============================] - ETA: 0s - loss: 0.1375 - dice_coefficient: 0.8051\n",
            "Epoch 00156: val_loss did not improve from 0.41680\n",
            "13/13 [==============================] - 25s 2s/step - loss: 0.1375 - dice_coefficient: 0.8051 - val_loss: 0.5365 - val_dice_coefficient: 0.5773\n",
            "Epoch 157/250\n",
            "13/13 [==============================] - ETA: 0s - loss: 0.1704 - dice_coefficient: 0.7779\n",
            "Epoch 00157: val_loss did not improve from 0.41680\n",
            "13/13 [==============================] - 25s 2s/step - loss: 0.1704 - dice_coefficient: 0.7779 - val_loss: 0.5821 - val_dice_coefficient: 0.5969\n",
            "Epoch 158/250\n",
            "13/13 [==============================] - ETA: 0s - loss: 0.1394 - dice_coefficient: 0.8073\n",
            "Epoch 00158: val_loss did not improve from 0.41680\n",
            "13/13 [==============================] - 25s 2s/step - loss: 0.1394 - dice_coefficient: 0.8073 - val_loss: 0.4575 - val_dice_coefficient: 0.6416\n",
            "Epoch 159/250\n",
            "13/13 [==============================] - ETA: 0s - loss: 0.1463 - dice_coefficient: 0.7962\n",
            "Epoch 00159: val_loss did not improve from 0.41680\n",
            "13/13 [==============================] - 25s 2s/step - loss: 0.1463 - dice_coefficient: 0.7962 - val_loss: 0.5324 - val_dice_coefficient: 0.5514\n",
            "Epoch 160/250\n",
            "13/13 [==============================] - ETA: 0s - loss: 0.1444 - dice_coefficient: 0.8019\n",
            "Epoch 00160: val_loss did not improve from 0.41680\n",
            "13/13 [==============================] - 25s 2s/step - loss: 0.1444 - dice_coefficient: 0.8019 - val_loss: 0.5263 - val_dice_coefficient: 0.5458\n",
            "Epoch 161/250\n",
            "13/13 [==============================] - ETA: 0s - loss: 0.1460 - dice_coefficient: 0.7925\n",
            "Epoch 00161: val_loss did not improve from 0.41680\n",
            "13/13 [==============================] - 25s 2s/step - loss: 0.1460 - dice_coefficient: 0.7925 - val_loss: 0.5143 - val_dice_coefficient: 0.6140\n",
            "Epoch 162/250\n",
            "13/13 [==============================] - ETA: 0s - loss: 0.1323 - dice_coefficient: 0.8089\n",
            "Epoch 00162: val_loss did not improve from 0.41680\n",
            "13/13 [==============================] - 25s 2s/step - loss: 0.1323 - dice_coefficient: 0.8089 - val_loss: 0.4935 - val_dice_coefficient: 0.6198\n",
            "Epoch 163/250\n",
            "13/13 [==============================] - ETA: 0s - loss: 0.1469 - dice_coefficient: 0.8013\n",
            "Epoch 00163: val_loss did not improve from 0.41680\n",
            "13/13 [==============================] - 25s 2s/step - loss: 0.1469 - dice_coefficient: 0.8013 - val_loss: 0.4852 - val_dice_coefficient: 0.6038\n",
            "Epoch 164/250\n",
            "13/13 [==============================] - ETA: 0s - loss: 0.1375 - dice_coefficient: 0.8132\n",
            "Epoch 00164: val_loss did not improve from 0.41680\n",
            "13/13 [==============================] - 25s 2s/step - loss: 0.1375 - dice_coefficient: 0.8132 - val_loss: 0.5365 - val_dice_coefficient: 0.6511\n",
            "Epoch 165/250\n",
            "13/13 [==============================] - ETA: 0s - loss: 0.1404 - dice_coefficient: 0.8078\n",
            "Epoch 00165: val_loss did not improve from 0.41680\n",
            "13/13 [==============================] - 25s 2s/step - loss: 0.1404 - dice_coefficient: 0.8078 - val_loss: 0.4586 - val_dice_coefficient: 0.6391\n",
            "Epoch 166/250\n",
            "13/13 [==============================] - ETA: 0s - loss: 0.1239 - dice_coefficient: 0.8225\n",
            "Epoch 00166: val_loss did not improve from 0.41680\n",
            "13/13 [==============================] - 25s 2s/step - loss: 0.1239 - dice_coefficient: 0.8225 - val_loss: 0.5178 - val_dice_coefficient: 0.6455\n",
            "Epoch 167/250\n",
            "13/13 [==============================] - ETA: 0s - loss: 0.1365 - dice_coefficient: 0.8036\n",
            "Epoch 00167: val_loss did not improve from 0.41680\n",
            "13/13 [==============================] - 25s 2s/step - loss: 0.1365 - dice_coefficient: 0.8036 - val_loss: 0.4982 - val_dice_coefficient: 0.6137\n",
            "Epoch 168/250\n",
            "13/13 [==============================] - ETA: 0s - loss: 0.1294 - dice_coefficient: 0.8183\n",
            "Epoch 00168: val_loss did not improve from 0.41680\n",
            "13/13 [==============================] - 25s 2s/step - loss: 0.1294 - dice_coefficient: 0.8183 - val_loss: 0.4852 - val_dice_coefficient: 0.6468\n",
            "Epoch 169/250\n",
            "13/13 [==============================] - ETA: 0s - loss: 0.1530 - dice_coefficient: 0.7955\n",
            "Epoch 00169: val_loss did not improve from 0.41680\n",
            "13/13 [==============================] - 25s 2s/step - loss: 0.1530 - dice_coefficient: 0.7955 - val_loss: 0.6549 - val_dice_coefficient: 0.4896\n",
            "Epoch 170/250\n",
            "13/13 [==============================] - ETA: 0s - loss: 0.1524 - dice_coefficient: 0.7913\n",
            "Epoch 00170: val_loss did not improve from 0.41680\n",
            "13/13 [==============================] - 25s 2s/step - loss: 0.1524 - dice_coefficient: 0.7913 - val_loss: 0.6140 - val_dice_coefficient: 0.3382\n",
            "Epoch 171/250\n",
            "13/13 [==============================] - ETA: 0s - loss: 0.1509 - dice_coefficient: 0.7917\n",
            "Epoch 00171: val_loss did not improve from 0.41680\n",
            "13/13 [==============================] - 25s 2s/step - loss: 0.1509 - dice_coefficient: 0.7917 - val_loss: 0.4827 - val_dice_coefficient: 0.5743\n",
            "Epoch 172/250\n",
            "13/13 [==============================] - ETA: 0s - loss: 0.1368 - dice_coefficient: 0.8117\n",
            "Epoch 00172: val_loss did not improve from 0.41680\n",
            "13/13 [==============================] - 26s 2s/step - loss: 0.1368 - dice_coefficient: 0.8117 - val_loss: 0.5250 - val_dice_coefficient: 0.6243\n",
            "Epoch 173/250\n",
            "13/13 [==============================] - ETA: 0s - loss: 0.1388 - dice_coefficient: 0.8040\n",
            "Epoch 00173: val_loss did not improve from 0.41680\n",
            "13/13 [==============================] - 25s 2s/step - loss: 0.1388 - dice_coefficient: 0.8040 - val_loss: 0.5554 - val_dice_coefficient: 0.5901\n",
            "Epoch 174/250\n",
            "13/13 [==============================] - ETA: 0s - loss: 0.1314 - dice_coefficient: 0.8122\n",
            "Epoch 00174: val_loss did not improve from 0.41680\n",
            "13/13 [==============================] - 25s 2s/step - loss: 0.1314 - dice_coefficient: 0.8122 - val_loss: 0.4568 - val_dice_coefficient: 0.6358\n",
            "Epoch 175/250\n",
            "13/13 [==============================] - ETA: 0s - loss: 0.1361 - dice_coefficient: 0.8172\n",
            "Epoch 00175: val_loss did not improve from 0.41680\n",
            "13/13 [==============================] - 25s 2s/step - loss: 0.1361 - dice_coefficient: 0.8172 - val_loss: 0.5556 - val_dice_coefficient: 0.4633\n",
            "Epoch 176/250\n",
            "13/13 [==============================] - ETA: 0s - loss: 0.1373 - dice_coefficient: 0.8099\n",
            "Epoch 00176: val_loss did not improve from 0.41680\n",
            "13/13 [==============================] - 25s 2s/step - loss: 0.1373 - dice_coefficient: 0.8099 - val_loss: 0.4782 - val_dice_coefficient: 0.6451\n",
            "Epoch 177/250\n",
            "13/13 [==============================] - ETA: 0s - loss: 0.1456 - dice_coefficient: 0.8078\n",
            "Epoch 00177: val_loss did not improve from 0.41680\n",
            "13/13 [==============================] - 25s 2s/step - loss: 0.1456 - dice_coefficient: 0.8078 - val_loss: 0.5181 - val_dice_coefficient: 0.6425\n",
            "Epoch 178/250\n",
            "13/13 [==============================] - ETA: 0s - loss: 0.1320 - dice_coefficient: 0.8165\n",
            "Epoch 00178: val_loss did not improve from 0.41680\n",
            "13/13 [==============================] - 25s 2s/step - loss: 0.1320 - dice_coefficient: 0.8165 - val_loss: 0.4375 - val_dice_coefficient: 0.6162\n",
            "Epoch 179/250\n",
            "13/13 [==============================] - ETA: 0s - loss: 0.1341 - dice_coefficient: 0.8093\n",
            "Epoch 00179: val_loss did not improve from 0.41680\n",
            "13/13 [==============================] - 25s 2s/step - loss: 0.1341 - dice_coefficient: 0.8093 - val_loss: 0.6073 - val_dice_coefficient: 0.5889\n",
            "Epoch 180/250\n",
            "13/13 [==============================] - ETA: 0s - loss: 0.1358 - dice_coefficient: 0.8080\n",
            "Epoch 00180: val_loss did not improve from 0.41680\n",
            "13/13 [==============================] - 25s 2s/step - loss: 0.1358 - dice_coefficient: 0.8080 - val_loss: 0.5179 - val_dice_coefficient: 0.6368\n",
            "Epoch 181/250\n",
            "13/13 [==============================] - ETA: 0s - loss: 0.1338 - dice_coefficient: 0.8078\n",
            "Epoch 00181: val_loss did not improve from 0.41680\n",
            "13/13 [==============================] - 25s 2s/step - loss: 0.1338 - dice_coefficient: 0.8078 - val_loss: 0.5445 - val_dice_coefficient: 0.6052\n",
            "Epoch 182/250\n",
            "13/13 [==============================] - ETA: 0s - loss: 0.1256 - dice_coefficient: 0.8251\n",
            "Epoch 00182: val_loss did not improve from 0.41680\n",
            "13/13 [==============================] - 25s 2s/step - loss: 0.1256 - dice_coefficient: 0.8251 - val_loss: 0.4933 - val_dice_coefficient: 0.6008\n",
            "Epoch 183/250\n",
            "13/13 [==============================] - ETA: 0s - loss: 0.1225 - dice_coefficient: 0.8248\n",
            "Epoch 00183: val_loss did not improve from 0.41680\n",
            "13/13 [==============================] - 25s 2s/step - loss: 0.1225 - dice_coefficient: 0.8248 - val_loss: 0.6252 - val_dice_coefficient: 0.6161\n",
            "Epoch 184/250\n",
            "13/13 [==============================] - ETA: 0s - loss: 0.1277 - dice_coefficient: 0.8280\n",
            "Epoch 00184: val_loss did not improve from 0.41680\n",
            "13/13 [==============================] - 25s 2s/step - loss: 0.1277 - dice_coefficient: 0.8280 - val_loss: 0.4957 - val_dice_coefficient: 0.6371\n",
            "Epoch 185/250\n",
            "13/13 [==============================] - ETA: 0s - loss: 0.1396 - dice_coefficient: 0.8090\n",
            "Epoch 00185: val_loss did not improve from 0.41680\n",
            "13/13 [==============================] - 25s 2s/step - loss: 0.1396 - dice_coefficient: 0.8090 - val_loss: 0.4524 - val_dice_coefficient: 0.5815\n",
            "Epoch 186/250\n",
            "13/13 [==============================] - ETA: 0s - loss: 0.1246 - dice_coefficient: 0.8298\n",
            "Epoch 00186: val_loss did not improve from 0.41680\n",
            "13/13 [==============================] - 25s 2s/step - loss: 0.1246 - dice_coefficient: 0.8298 - val_loss: 0.4698 - val_dice_coefficient: 0.6442\n",
            "Epoch 187/250\n",
            "13/13 [==============================] - ETA: 0s - loss: 0.1273 - dice_coefficient: 0.8193\n",
            "Epoch 00187: val_loss did not improve from 0.41680\n",
            "13/13 [==============================] - 25s 2s/step - loss: 0.1273 - dice_coefficient: 0.8193 - val_loss: 0.5017 - val_dice_coefficient: 0.6565\n",
            "Epoch 188/250\n",
            "13/13 [==============================] - ETA: 0s - loss: 0.1236 - dice_coefficient: 0.8297\n",
            "Epoch 00188: val_loss did not improve from 0.41680\n",
            "13/13 [==============================] - 25s 2s/step - loss: 0.1236 - dice_coefficient: 0.8297 - val_loss: 0.5991 - val_dice_coefficient: 0.6260\n",
            "Epoch 189/250\n",
            "13/13 [==============================] - ETA: 0s - loss: 0.1410 - dice_coefficient: 0.8205\n",
            "Epoch 00189: val_loss did not improve from 0.41680\n",
            "13/13 [==============================] - 25s 2s/step - loss: 0.1410 - dice_coefficient: 0.8205 - val_loss: 0.5658 - val_dice_coefficient: 0.6086\n",
            "Epoch 190/250\n",
            "13/13 [==============================] - ETA: 0s - loss: 0.1435 - dice_coefficient: 0.8068\n",
            "Epoch 00190: val_loss did not improve from 0.41680\n",
            "13/13 [==============================] - 25s 2s/step - loss: 0.1435 - dice_coefficient: 0.8068 - val_loss: 0.6432 - val_dice_coefficient: 0.5315\n",
            "Epoch 191/250\n",
            "13/13 [==============================] - ETA: 0s - loss: 0.1432 - dice_coefficient: 0.8056\n",
            "Epoch 00191: val_loss did not improve from 0.41680\n",
            "13/13 [==============================] - 25s 2s/step - loss: 0.1432 - dice_coefficient: 0.8056 - val_loss: 0.6498 - val_dice_coefficient: 0.6167\n",
            "Epoch 192/250\n",
            "13/13 [==============================] - ETA: 0s - loss: 0.1153 - dice_coefficient: 0.8313\n",
            "Epoch 00192: val_loss did not improve from 0.41680\n",
            "13/13 [==============================] - 25s 2s/step - loss: 0.1153 - dice_coefficient: 0.8313 - val_loss: 0.5711 - val_dice_coefficient: 0.6304\n",
            "Epoch 193/250\n",
            "13/13 [==============================] - ETA: 0s - loss: 0.1347 - dice_coefficient: 0.8202\n",
            "Epoch 00193: val_loss did not improve from 0.41680\n",
            "13/13 [==============================] - 25s 2s/step - loss: 0.1347 - dice_coefficient: 0.8202 - val_loss: 0.6222 - val_dice_coefficient: 0.5059\n",
            "Epoch 194/250\n",
            "13/13 [==============================] - ETA: 0s - loss: 0.1358 - dice_coefficient: 0.8175\n",
            "Epoch 00194: val_loss did not improve from 0.41680\n",
            "13/13 [==============================] - 25s 2s/step - loss: 0.1358 - dice_coefficient: 0.8175 - val_loss: 0.4399 - val_dice_coefficient: 0.6104\n",
            "Epoch 195/250\n",
            "13/13 [==============================] - ETA: 0s - loss: 0.1287 - dice_coefficient: 0.8273\n",
            "Epoch 00195: val_loss did not improve from 0.41680\n",
            "13/13 [==============================] - 25s 2s/step - loss: 0.1287 - dice_coefficient: 0.8273 - val_loss: 0.5252 - val_dice_coefficient: 0.5622\n",
            "Epoch 196/250\n",
            "13/13 [==============================] - ETA: 0s - loss: 0.1313 - dice_coefficient: 0.8187\n",
            "Epoch 00196: val_loss did not improve from 0.41680\n",
            "13/13 [==============================] - 25s 2s/step - loss: 0.1313 - dice_coefficient: 0.8187 - val_loss: 0.5606 - val_dice_coefficient: 0.6222\n",
            "Epoch 197/250\n",
            "13/13 [==============================] - ETA: 0s - loss: 0.1227 - dice_coefficient: 0.8296\n",
            "Epoch 00197: val_loss did not improve from 0.41680\n",
            "13/13 [==============================] - 25s 2s/step - loss: 0.1227 - dice_coefficient: 0.8296 - val_loss: 0.5589 - val_dice_coefficient: 0.6370\n",
            "Epoch 198/250\n",
            "13/13 [==============================] - ETA: 0s - loss: 0.1266 - dice_coefficient: 0.8219\n",
            "Epoch 00198: val_loss did not improve from 0.41680\n",
            "13/13 [==============================] - 25s 2s/step - loss: 0.1266 - dice_coefficient: 0.8219 - val_loss: 0.4566 - val_dice_coefficient: 0.5937\n",
            "Epoch 199/250\n",
            "13/13 [==============================] - ETA: 0s - loss: 0.1360 - dice_coefficient: 0.8121\n",
            "Epoch 00199: val_loss did not improve from 0.41680\n",
            "13/13 [==============================] - 25s 2s/step - loss: 0.1360 - dice_coefficient: 0.8121 - val_loss: 0.4786 - val_dice_coefficient: 0.6172\n",
            "Epoch 200/250\n",
            "13/13 [==============================] - ETA: 0s - loss: 0.1278 - dice_coefficient: 0.8146\n",
            "Epoch 00200: val_loss did not improve from 0.41680\n",
            "13/13 [==============================] - 24s 2s/step - loss: 0.1278 - dice_coefficient: 0.8146 - val_loss: 0.6678 - val_dice_coefficient: 0.6441\n",
            "Epoch 201/250\n",
            "13/13 [==============================] - ETA: 0s - loss: 0.1269 - dice_coefficient: 0.8296\n",
            "Epoch 00201: val_loss did not improve from 0.41680\n",
            "13/13 [==============================] - 25s 2s/step - loss: 0.1269 - dice_coefficient: 0.8296 - val_loss: 0.7246 - val_dice_coefficient: 0.6002\n",
            "Epoch 202/250\n",
            "13/13 [==============================] - ETA: 0s - loss: 0.1122 - dice_coefficient: 0.8367\n",
            "Epoch 00202: val_loss did not improve from 0.41680\n",
            "13/13 [==============================] - 25s 2s/step - loss: 0.1122 - dice_coefficient: 0.8367 - val_loss: 0.4987 - val_dice_coefficient: 0.6415\n",
            "Epoch 203/250\n",
            "13/13 [==============================] - ETA: 0s - loss: 0.1294 - dice_coefficient: 0.8282\n",
            "Epoch 00203: val_loss did not improve from 0.41680\n",
            "13/13 [==============================] - 25s 2s/step - loss: 0.1294 - dice_coefficient: 0.8282 - val_loss: 0.5813 - val_dice_coefficient: 0.6279\n",
            "Epoch 204/250\n",
            "13/13 [==============================] - ETA: 0s - loss: 0.1216 - dice_coefficient: 0.8246\n",
            "Epoch 00204: val_loss did not improve from 0.41680\n",
            "13/13 [==============================] - 25s 2s/step - loss: 0.1216 - dice_coefficient: 0.8246 - val_loss: 0.5782 - val_dice_coefficient: 0.6252\n",
            "Epoch 205/250\n",
            "13/13 [==============================] - ETA: 0s - loss: 0.1243 - dice_coefficient: 0.8281\n",
            "Epoch 00205: val_loss did not improve from 0.41680\n",
            "13/13 [==============================] - 25s 2s/step - loss: 0.1243 - dice_coefficient: 0.8281 - val_loss: 0.5477 - val_dice_coefficient: 0.6465\n",
            "Epoch 206/250\n",
            "13/13 [==============================] - ETA: 0s - loss: 0.1149 - dice_coefficient: 0.8310\n",
            "Epoch 00206: val_loss did not improve from 0.41680\n",
            "13/13 [==============================] - 25s 2s/step - loss: 0.1149 - dice_coefficient: 0.8310 - val_loss: 0.5207 - val_dice_coefficient: 0.6391\n",
            "Epoch 207/250\n",
            "13/13 [==============================] - ETA: 0s - loss: 0.1469 - dice_coefficient: 0.8077\n",
            "Epoch 00207: val_loss did not improve from 0.41680\n",
            "13/13 [==============================] - 25s 2s/step - loss: 0.1469 - dice_coefficient: 0.8077 - val_loss: 0.7843 - val_dice_coefficient: 0.5953\n",
            "Epoch 208/250\n",
            "13/13 [==============================] - ETA: 0s - loss: 0.1263 - dice_coefficient: 0.8312\n",
            "Epoch 00208: val_loss did not improve from 0.41680\n",
            "13/13 [==============================] - 25s 2s/step - loss: 0.1263 - dice_coefficient: 0.8312 - val_loss: 0.4998 - val_dice_coefficient: 0.6573\n",
            "Epoch 209/250\n",
            "13/13 [==============================] - ETA: 0s - loss: 0.1197 - dice_coefficient: 0.8298\n",
            "Epoch 00209: val_loss did not improve from 0.41680\n",
            "13/13 [==============================] - 25s 2s/step - loss: 0.1197 - dice_coefficient: 0.8298 - val_loss: 0.4842 - val_dice_coefficient: 0.5663\n",
            "Epoch 210/250\n",
            "13/13 [==============================] - ETA: 0s - loss: 0.1238 - dice_coefficient: 0.8274\n",
            "Epoch 00210: val_loss did not improve from 0.41680\n",
            "13/13 [==============================] - 25s 2s/step - loss: 0.1238 - dice_coefficient: 0.8274 - val_loss: 0.5164 - val_dice_coefficient: 0.6063\n",
            "Epoch 211/250\n",
            "13/13 [==============================] - ETA: 0s - loss: 0.1553 - dice_coefficient: 0.7868\n",
            "Epoch 00211: val_loss did not improve from 0.41680\n",
            "13/13 [==============================] - 25s 2s/step - loss: 0.1553 - dice_coefficient: 0.7868 - val_loss: 0.4827 - val_dice_coefficient: 0.6011\n",
            "Epoch 212/250\n",
            "13/13 [==============================] - ETA: 0s - loss: 0.1317 - dice_coefficient: 0.8184\n",
            "Epoch 00212: val_loss did not improve from 0.41680\n",
            "13/13 [==============================] - 25s 2s/step - loss: 0.1317 - dice_coefficient: 0.8184 - val_loss: 0.5162 - val_dice_coefficient: 0.6287\n",
            "Epoch 213/250\n",
            "13/13 [==============================] - ETA: 0s - loss: 0.1169 - dice_coefficient: 0.8367\n",
            "Epoch 00213: val_loss did not improve from 0.41680\n",
            "13/13 [==============================] - 25s 2s/step - loss: 0.1169 - dice_coefficient: 0.8367 - val_loss: 0.4706 - val_dice_coefficient: 0.6269\n",
            "Epoch 214/250\n",
            "13/13 [==============================] - ETA: 0s - loss: 0.1232 - dice_coefficient: 0.8347\n",
            "Epoch 00214: val_loss did not improve from 0.41680\n",
            "13/13 [==============================] - 25s 2s/step - loss: 0.1232 - dice_coefficient: 0.8347 - val_loss: 0.5808 - val_dice_coefficient: 0.6114\n",
            "Epoch 215/250\n",
            "13/13 [==============================] - ETA: 0s - loss: 0.1190 - dice_coefficient: 0.8300\n",
            "Epoch 00215: val_loss did not improve from 0.41680\n",
            "13/13 [==============================] - 25s 2s/step - loss: 0.1190 - dice_coefficient: 0.8300 - val_loss: 0.5599 - val_dice_coefficient: 0.6498\n",
            "Epoch 216/250\n",
            "13/13 [==============================] - ETA: 0s - loss: 0.1202 - dice_coefficient: 0.8348\n",
            "Epoch 00216: val_loss did not improve from 0.41680\n",
            "13/13 [==============================] - 25s 2s/step - loss: 0.1202 - dice_coefficient: 0.8348 - val_loss: 0.5338 - val_dice_coefficient: 0.6057\n",
            "Epoch 217/250\n",
            "13/13 [==============================] - ETA: 0s - loss: 0.1153 - dice_coefficient: 0.8358\n",
            "Epoch 00217: val_loss did not improve from 0.41680\n",
            "13/13 [==============================] - 25s 2s/step - loss: 0.1153 - dice_coefficient: 0.8358 - val_loss: 0.5693 - val_dice_coefficient: 0.6454\n",
            "Epoch 218/250\n",
            "13/13 [==============================] - ETA: 0s - loss: 0.1157 - dice_coefficient: 0.8352\n",
            "Epoch 00218: val_loss did not improve from 0.41680\n",
            "13/13 [==============================] - 25s 2s/step - loss: 0.1157 - dice_coefficient: 0.8352 - val_loss: 0.5177 - val_dice_coefficient: 0.6324\n",
            "Epoch 219/250\n",
            "13/13 [==============================] - ETA: 0s - loss: 0.1158 - dice_coefficient: 0.8394\n",
            "Epoch 00219: val_loss did not improve from 0.41680\n",
            "13/13 [==============================] - 25s 2s/step - loss: 0.1158 - dice_coefficient: 0.8394 - val_loss: 0.5050 - val_dice_coefficient: 0.6310\n",
            "Epoch 220/250\n",
            "13/13 [==============================] - ETA: 0s - loss: 0.1106 - dice_coefficient: 0.8434\n",
            "Epoch 00220: val_loss did not improve from 0.41680\n",
            "13/13 [==============================] - 25s 2s/step - loss: 0.1106 - dice_coefficient: 0.8434 - val_loss: 0.5145 - val_dice_coefficient: 0.6471\n",
            "Epoch 221/250\n",
            "13/13 [==============================] - ETA: 0s - loss: 0.1109 - dice_coefficient: 0.8414\n",
            "Epoch 00221: val_loss did not improve from 0.41680\n",
            "13/13 [==============================] - 25s 2s/step - loss: 0.1109 - dice_coefficient: 0.8414 - val_loss: 0.4473 - val_dice_coefficient: 0.6385\n",
            "Epoch 222/250\n",
            "13/13 [==============================] - ETA: 0s - loss: 0.1130 - dice_coefficient: 0.8461\n",
            "Epoch 00222: val_loss did not improve from 0.41680\n",
            "13/13 [==============================] - 25s 2s/step - loss: 0.1130 - dice_coefficient: 0.8461 - val_loss: 0.4645 - val_dice_coefficient: 0.6348\n",
            "Epoch 223/250\n",
            "13/13 [==============================] - ETA: 0s - loss: 0.1188 - dice_coefficient: 0.8366\n",
            "Epoch 00223: val_loss did not improve from 0.41680\n",
            "13/13 [==============================] - 29s 2s/step - loss: 0.1188 - dice_coefficient: 0.8366 - val_loss: 0.5174 - val_dice_coefficient: 0.6607\n",
            "Epoch 224/250\n",
            "13/13 [==============================] - ETA: 0s - loss: 0.1278 - dice_coefficient: 0.8233\n",
            "Epoch 00224: val_loss did not improve from 0.41680\n",
            "13/13 [==============================] - 25s 2s/step - loss: 0.1278 - dice_coefficient: 0.8233 - val_loss: 0.4793 - val_dice_coefficient: 0.6157\n",
            "Epoch 225/250\n",
            "13/13 [==============================] - ETA: 0s - loss: 0.1185 - dice_coefficient: 0.8381\n",
            "Epoch 00225: val_loss did not improve from 0.41680\n",
            "13/13 [==============================] - 25s 2s/step - loss: 0.1185 - dice_coefficient: 0.8381 - val_loss: 0.6682 - val_dice_coefficient: 0.6334\n",
            "Epoch 226/250\n",
            "13/13 [==============================] - ETA: 0s - loss: 0.1056 - dice_coefficient: 0.8469\n",
            "Epoch 00226: val_loss did not improve from 0.41680\n",
            "13/13 [==============================] - 25s 2s/step - loss: 0.1056 - dice_coefficient: 0.8469 - val_loss: 0.5011 - val_dice_coefficient: 0.6478\n",
            "Epoch 227/250\n",
            "13/13 [==============================] - ETA: 0s - loss: 0.1102 - dice_coefficient: 0.8413\n",
            "Epoch 00227: val_loss did not improve from 0.41680\n",
            "13/13 [==============================] - 25s 2s/step - loss: 0.1102 - dice_coefficient: 0.8413 - val_loss: 0.6732 - val_dice_coefficient: 0.5560\n",
            "Epoch 228/250\n",
            "13/13 [==============================] - ETA: 0s - loss: 0.1271 - dice_coefficient: 0.8319\n",
            "Epoch 00228: val_loss did not improve from 0.41680\n",
            "13/13 [==============================] - 25s 2s/step - loss: 0.1271 - dice_coefficient: 0.8319 - val_loss: 0.5189 - val_dice_coefficient: 0.6550\n",
            "Epoch 229/250\n",
            "13/13 [==============================] - ETA: 0s - loss: 0.1109 - dice_coefficient: 0.8479\n",
            "Epoch 00229: val_loss did not improve from 0.41680\n",
            "13/13 [==============================] - 25s 2s/step - loss: 0.1109 - dice_coefficient: 0.8479 - val_loss: 0.5530 - val_dice_coefficient: 0.6420\n",
            "Epoch 230/250\n",
            "13/13 [==============================] - ETA: 0s - loss: 0.1163 - dice_coefficient: 0.8378\n",
            "Epoch 00230: val_loss did not improve from 0.41680\n",
            "13/13 [==============================] - 25s 2s/step - loss: 0.1163 - dice_coefficient: 0.8378 - val_loss: 0.6342 - val_dice_coefficient: 0.6141\n",
            "Epoch 231/250\n",
            "13/13 [==============================] - ETA: 0s - loss: 0.1194 - dice_coefficient: 0.8357\n",
            "Epoch 00231: val_loss did not improve from 0.41680\n",
            "13/13 [==============================] - 25s 2s/step - loss: 0.1194 - dice_coefficient: 0.8357 - val_loss: 0.5370 - val_dice_coefficient: 0.6676\n",
            "Epoch 232/250\n",
            "13/13 [==============================] - ETA: 0s - loss: 0.1078 - dice_coefficient: 0.8488\n",
            "Epoch 00232: val_loss did not improve from 0.41680\n",
            "13/13 [==============================] - 25s 2s/step - loss: 0.1078 - dice_coefficient: 0.8488 - val_loss: 0.5349 - val_dice_coefficient: 0.6280\n",
            "Epoch 233/250\n",
            "13/13 [==============================] - ETA: 0s - loss: 0.1117 - dice_coefficient: 0.8386\n",
            "Epoch 00233: val_loss did not improve from 0.41680\n",
            "13/13 [==============================] - 25s 2s/step - loss: 0.1117 - dice_coefficient: 0.8386 - val_loss: 0.5020 - val_dice_coefficient: 0.6259\n",
            "Epoch 234/250\n",
            "13/13 [==============================] - ETA: 0s - loss: 0.1141 - dice_coefficient: 0.8345\n",
            "Epoch 00234: val_loss did not improve from 0.41680\n",
            "13/13 [==============================] - 25s 2s/step - loss: 0.1141 - dice_coefficient: 0.8345 - val_loss: 0.5708 - val_dice_coefficient: 0.6669\n",
            "Epoch 235/250\n",
            "13/13 [==============================] - ETA: 0s - loss: 0.1130 - dice_coefficient: 0.8442\n",
            "Epoch 00235: val_loss did not improve from 0.41680\n",
            "13/13 [==============================] - 25s 2s/step - loss: 0.1130 - dice_coefficient: 0.8442 - val_loss: 0.4988 - val_dice_coefficient: 0.6528\n",
            "Epoch 236/250\n",
            "13/13 [==============================] - ETA: 0s - loss: 0.1029 - dice_coefficient: 0.8498\n",
            "Epoch 00236: val_loss did not improve from 0.41680\n",
            "13/13 [==============================] - 25s 2s/step - loss: 0.1029 - dice_coefficient: 0.8498 - val_loss: 0.5491 - val_dice_coefficient: 0.6678\n",
            "Epoch 237/250\n",
            "13/13 [==============================] - ETA: 0s - loss: 0.1232 - dice_coefficient: 0.8335\n",
            "Epoch 00237: val_loss did not improve from 0.41680\n",
            "13/13 [==============================] - 25s 2s/step - loss: 0.1232 - dice_coefficient: 0.8335 - val_loss: 0.4843 - val_dice_coefficient: 0.5673\n",
            "Epoch 238/250\n",
            "13/13 [==============================] - ETA: 0s - loss: 0.1163 - dice_coefficient: 0.8426\n",
            "Epoch 00238: val_loss did not improve from 0.41680\n",
            "13/13 [==============================] - 25s 2s/step - loss: 0.1163 - dice_coefficient: 0.8426 - val_loss: 0.5344 - val_dice_coefficient: 0.6733\n",
            "Epoch 239/250\n",
            "13/13 [==============================] - ETA: 0s - loss: 0.1167 - dice_coefficient: 0.8374\n",
            "Epoch 00239: val_loss did not improve from 0.41680\n",
            "13/13 [==============================] - 25s 2s/step - loss: 0.1167 - dice_coefficient: 0.8374 - val_loss: 0.6055 - val_dice_coefficient: 0.6753\n",
            "Epoch 240/250\n",
            "13/13 [==============================] - ETA: 0s - loss: 0.1071 - dice_coefficient: 0.8532\n",
            "Epoch 00240: val_loss did not improve from 0.41680\n",
            "13/13 [==============================] - 25s 2s/step - loss: 0.1071 - dice_coefficient: 0.8532 - val_loss: 0.5233 - val_dice_coefficient: 0.6400\n",
            "Epoch 241/250\n",
            "13/13 [==============================] - ETA: 0s - loss: 0.1084 - dice_coefficient: 0.8491\n",
            "Epoch 00241: val_loss did not improve from 0.41680\n",
            "13/13 [==============================] - 25s 2s/step - loss: 0.1084 - dice_coefficient: 0.8491 - val_loss: 0.5698 - val_dice_coefficient: 0.6552\n",
            "Epoch 242/250\n",
            "13/13 [==============================] - ETA: 0s - loss: 0.1130 - dice_coefficient: 0.8475\n",
            "Epoch 00242: val_loss did not improve from 0.41680\n",
            "13/13 [==============================] - 25s 2s/step - loss: 0.1130 - dice_coefficient: 0.8475 - val_loss: 0.6000 - val_dice_coefficient: 0.6254\n",
            "Epoch 243/250\n",
            "13/13 [==============================] - ETA: 0s - loss: 0.1158 - dice_coefficient: 0.8403\n",
            "Epoch 00243: val_loss did not improve from 0.41680\n",
            "13/13 [==============================] - 25s 2s/step - loss: 0.1158 - dice_coefficient: 0.8403 - val_loss: 0.6930 - val_dice_coefficient: 0.6140\n",
            "Epoch 244/250\n",
            "13/13 [==============================] - ETA: 0s - loss: 0.1234 - dice_coefficient: 0.8334\n",
            "Epoch 00244: val_loss did not improve from 0.41680\n",
            "13/13 [==============================] - 25s 2s/step - loss: 0.1234 - dice_coefficient: 0.8334 - val_loss: 0.7857 - val_dice_coefficient: 0.4404\n",
            "Epoch 245/250\n",
            "13/13 [==============================] - ETA: 0s - loss: 0.1177 - dice_coefficient: 0.8433\n",
            "Epoch 00245: val_loss did not improve from 0.41680\n",
            "13/13 [==============================] - 25s 2s/step - loss: 0.1177 - dice_coefficient: 0.8433 - val_loss: 0.5482 - val_dice_coefficient: 0.6446\n",
            "Epoch 246/250\n",
            "13/13 [==============================] - ETA: 0s - loss: 0.1170 - dice_coefficient: 0.8446\n",
            "Epoch 00246: val_loss did not improve from 0.41680\n",
            "13/13 [==============================] - 25s 2s/step - loss: 0.1170 - dice_coefficient: 0.8446 - val_loss: 0.5049 - val_dice_coefficient: 0.6379\n",
            "Epoch 247/250\n",
            "13/13 [==============================] - ETA: 0s - loss: 0.1002 - dice_coefficient: 0.8568\n",
            "Epoch 00247: val_loss did not improve from 0.41680\n",
            "13/13 [==============================] - 25s 2s/step - loss: 0.1002 - dice_coefficient: 0.8568 - val_loss: 0.6415 - val_dice_coefficient: 0.6418\n",
            "Epoch 248/250\n",
            "13/13 [==============================] - ETA: 0s - loss: 0.0980 - dice_coefficient: 0.8595\n",
            "Epoch 00248: val_loss did not improve from 0.41680\n",
            "13/13 [==============================] - 25s 2s/step - loss: 0.0980 - dice_coefficient: 0.8595 - val_loss: 0.6124 - val_dice_coefficient: 0.6289\n",
            "Epoch 249/250\n",
            "13/13 [==============================] - ETA: 0s - loss: 0.1118 - dice_coefficient: 0.8389\n",
            "Epoch 00249: val_loss did not improve from 0.41680\n",
            "13/13 [==============================] - 25s 2s/step - loss: 0.1118 - dice_coefficient: 0.8389 - val_loss: 0.5314 - val_dice_coefficient: 0.6508\n",
            "Epoch 250/250\n",
            "13/13 [==============================] - ETA: 0s - loss: 0.1186 - dice_coefficient: 0.8425\n",
            "Epoch 00250: val_loss did not improve from 0.41680\n",
            "13/13 [==============================] - 25s 2s/step - loss: 0.1186 - dice_coefficient: 0.8425 - val_loss: 0.5331 - val_dice_coefficient: 0.6473\n"
          ]
        }
      ]
    },
    {
      "cell_type": "markdown",
      "source": [
        "##Saving the model"
      ],
      "metadata": {
        "id": "4NjyatM1TkJK"
      }
    },
    {
      "cell_type": "code",
      "source": [
        "model.save('/content/drive/MyDrive/U-Net/good_seg.h5')"
      ],
      "metadata": {
        "id": "A9l63lTB6D_I"
      },
      "execution_count": null,
      "outputs": []
    },
    {
      "cell_type": "markdown",
      "source": [
        "##Training and validation plots"
      ],
      "metadata": {
        "id": "eN2gWQFTTnPa"
      }
    },
    {
      "cell_type": "code",
      "source": [
        "loss = results.history['loss']\n",
        "val_loss = results.history['val_loss']\n",
        "epochs = range(1, len(loss) + 1)\n",
        "plt.plot(epochs, loss, 'y', label='Training loss')\n",
        "plt.plot(epochs, val_loss, 'r', label='Validation loss')\n",
        "plt.title('Training and validation loss')\n",
        "plt.xlabel('Epochs')\n",
        "plt.ylabel('Loss')\n",
        "plt.legend()\n",
        "plt.show()"
      ],
      "metadata": {
        "colab": {
          "base_uri": "https://localhost:8080/",
          "height": 295
        },
        "id": "LWiPI6kBkZNo",
        "outputId": "26aa7892-0387-4731-a6de-149b8dba412d"
      },
      "execution_count": null,
      "outputs": [
        {
          "output_type": "display_data",
          "data": {
            "image/png": "[encoded data removed]",
            "text/plain": [
              "<Figure size 432x288 with 1 Axes>"
            ]
          },
          "metadata": {
            "needs_background": "light"
          }
        }
      ]
    },
    {
      "cell_type": "markdown",
      "source": [
        "IoU Score"
      ],
      "metadata": {
        "id": "6T9DChEGTrHh"
      }
    },
    {
      "cell_type": "code",
      "source": [
        "y_pred=model.predict(X_test)\n",
        "y_pred_thresholded = y_pred > 0.5\n",
        "\n",
        "intersection = np.logical_and(Y_test, y_pred_thresholded)\n",
        "union = np.logical_or(Y_test, y_pred_thresholded)\n",
        "iou_score = np.sum(intersection) / np.sum(union)\n",
        "print(\"IoU socre is: \", iou_score)"
      ],
      "metadata": {
        "colab": {
          "base_uri": "https://localhost:8080/"
        },
        "id": "PKVNL8IDxDBk",
        "outputId": "9307f3eb-0538-4f48-ac89-b9585db2cb40"
      },
      "execution_count": null,
      "outputs": [
        {
          "output_type": "stream",
          "name": "stdout",
          "text": [
            "IoU socre is:  0.5160595762658474\n"
          ]
        }
      ]
    },
    {
      "cell_type": "markdown",
      "source": [
        "##Example of model prediction"
      ],
      "metadata": {
        "id": "6zwDrO13TtOU"
      }
    },
    {
      "cell_type": "code",
      "source": [
        "test_img_number = random.randint(0, len(X_test))\n",
        "test_img = X_test[test_img_number]\n",
        "ground_truth=Y_test[test_img_number]\n",
        "test_img_input=np.expand_dims(test_img, 0)\n",
        "prediction = (np.squeeze(model.predict(test_img_input) > 0.5)).astype(np.uint8)\n",
        "\n",
        "plt.figure(figsize=(16, 8))\n",
        "plt.subplot(231)\n",
        "plt.title('Testing Image')\n",
        "plt.imshow(test_img[:,:,0], cmap='gray')\n",
        "plt.subplot(232)\n",
        "plt.title('Testing Label')\n",
        "plt.imshow(ground_truth[:,:,0], cmap='gray')\n",
        "plt.subplot(233)\n",
        "plt.title('Prediction on test image')\n",
        "plt.imshow(prediction, cmap='gray')\n",
        "\n",
        "plt.show()"
      ],
      "metadata": {
        "colab": {
          "base_uri": "https://localhost:8080/",
          "height": 262
        },
        "id": "Wv242F-oxPlR",
        "outputId": "a917e474-a619-4745-f585-8ec52c325eb2"
      },
      "execution_count": null,
      "outputs": [
        {
          "output_type": "display_data",
          "data": {
            "image/png": "[encoded data removed]",
            "text/plain": [
              "<Figure size 1152x576 with 3 Axes>"
            ]
          },
          "metadata": {
            "needs_background": "light"
          }
        }
      ]
    },
    {
      "cell_type": "code",
      "source": [
        ""
      ],
      "metadata": {
        "id": "wX0P1sWtxTDJ"
      },
      "execution_count": null,
      "outputs": []
    },
    {
      "cell_type": "code",
      "source": [
        ""
      ],
      "metadata": {
        "id": "Zd618RBdxTFS"
      },
      "execution_count": null,
      "outputs": []
    },
    {
      "cell_type": "code",
      "source": [
        ""
      ],
      "metadata": {
        "id": "iNzIJYeDTy7v"
      },
      "execution_count": null,
      "outputs": []
    },
    {
      "cell_type": "code",
      "source": [
        ""
      ],
      "metadata": {
        "id": "s6Hte4NHTy-Z"
      },
      "execution_count": null,
      "outputs": []
    },
    {
      "cell_type": "code",
      "source": [
        ""
      ],
      "metadata": {
        "id": "FdHtMk-GTzAl"
      },
      "execution_count": null,
      "outputs": []
    },
    {
      "cell_type": "code",
      "source": [
        ""
      ],
      "metadata": {
        "id": "LAQxwoJVxTIw"
      },
      "execution_count": null,
      "outputs": []
    },
    {
      "cell_type": "code",
      "source": [
        "import tensorflow as tf\n",
        "import numpy as np\n",
        "from PIL import Image\n",
        "\n",
        "\n",
        "class TensorflowLiteClassificationModel:\n",
        "    def __init__(self, model_path, labels, image_size=224):\n",
        "        self.interpreter = tf.lite.Interpreter(model_path=model_path)\n",
        "        self.interpreter.allocate_tensors()\n",
        "        self._input_details = self.interpreter.get_input_details()\n",
        "        self._output_details = self.interpreter.get_output_details()\n",
        "        self.labels = labels\n",
        "        self.image_size=image_size\n",
        "\n",
        "    def run_from_filepath(self, image_path):\n",
        "        input_data_type = self._input_details[0][\"dtype\"]\n",
        "        image = np.array(Image.open(image_path).resize((self.image_size, self.image_size)), dtype=input_data_type)\n",
        "        \n",
        "        if input_data_type == np.float32:\n",
        "            image = image / 255.\n",
        "\n",
        "        if image.shape == (1, 224, 224):\n",
        "            image = np.stack(image*3, axis=0)\n",
        "\n",
        "        return self.run(image)\n",
        "\n",
        "    def run(self, image):\n",
        "        image = np.expand_dims(image, axis=0)\n",
        "\n",
        "        self.interpreter.set_tensor(self._input_details[0][\"index\"], image)\n",
        "        self.interpreter.invoke()\n",
        "        tflite_interpreter_output = self.interpreter.get_tensor(self._output_details[0][\"index\"])\n",
        "        probabilities = np.array(tflite_interpreter_output[0])\n",
        "        return probabilities"
      ],
      "metadata": {
        "id": "w02Rp8LFiNeh"
      },
      "execution_count": null,
      "outputs": []
    },
    {
      "cell_type": "code",
      "source": [
        "labels = [\"Healthy\", \"Leaf_Blast\", \"Neck_Blast\", \"False_Smut\", \"Leaf_Scald\"]\n",
        "model = TensorflowLiteClassificationModel(\"/content/model_unquant.tflite\", labels=labels)\n",
        "x= model.run_from_filepath(\"/content/dr_7_6616.jpg\")\n",
        "print(x)\n",
        "print(labels[np.argmax(x)])"
      ],
      "metadata": {
        "colab": {
          "base_uri": "https://localhost:8080/"
        },
        "id": "znQYQ7y_jVz7",
        "outputId": "f8dddc17-c3f0-4f9e-8010-562f0da34bbb"
      },
      "execution_count": null,
      "outputs": [
        {
          "output_type": "stream",
          "name": "stdout",
          "text": [
            "[1.4876663e-02 5.2300645e-03 2.8673330e-04 2.8245270e-04 9.7932410e-01]\n",
            "Leaf_Scald\n"
          ]
        }
      ]
    }
  ]
}